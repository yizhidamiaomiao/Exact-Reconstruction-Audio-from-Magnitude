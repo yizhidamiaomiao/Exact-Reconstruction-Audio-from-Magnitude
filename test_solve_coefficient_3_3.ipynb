{
 "cells": [
  {
   "cell_type": "code",
   "execution_count": 1,
   "id": "53d52bdd-2b85-4cae-9852-55d019df87a7",
   "metadata": {
    "tags": []
   },
   "outputs": [],
   "source": [
    "import IPython.display as ipd\n",
    "\n",
    "import numpy as np\n",
    "import torch\n",
    "\n",
    "\n",
    "# import stft_64_pad_0 as stft\n",
    "import stft_64 as stft\n",
    "from audio_processing import griffin_lim\n",
    "\n",
    "from scipy.io.wavfile import read\n",
    "import time"
   ]
  },
  {
   "cell_type": "code",
   "execution_count": 2,
   "id": "0d6cef84-75e4-4c4d-9207-4a9356af39b6",
   "metadata": {
    "tags": []
   },
   "outputs": [],
   "source": [
    "N = 12"
   ]
  },
  {
   "cell_type": "code",
   "execution_count": 3,
   "id": "58d3d506-731b-4e82-86a1-91d7464b9588",
   "metadata": {
    "tags": []
   },
   "outputs": [
    {
     "name": "stdout",
     "output_type": "stream",
     "text": [
      "12376\n"
     ]
    }
   ],
   "source": [
    "all_6_pair = {}\n",
    "for i in range(N):\n",
    "    for j in range(N):\n",
    "        for k in range(N):\n",
    "            for l in range(N):\n",
    "                for t in range(N):\n",
    "                    for s in range(N):\n",
    "                        temp = [i,j,k,l,t,s]\n",
    "                        temp.sort()\n",
    "                        if tuple(temp) not in all_6_pair:\n",
    "                            all_6_pair[tuple(temp)] = 0\n",
    "                    \n",
    "print(len(all_6_pair))\n",
    "# print(all_4_pair)\n",
    "\n",
    "all_6_arr = list(all_6_pair)\n",
    "# print(all_4_arr)"
   ]
  },
  {
   "cell_type": "code",
   "execution_count": 6,
   "id": "d64c2799-c444-4372-8bbb-fbe53d57af61",
   "metadata": {
    "tags": []
   },
   "outputs": [],
   "source": [
    "def multiple_three_dict(dic1, dic2, dic3):\n",
    "    new_dic = all_6_pair.copy()\n",
    "    for x1 in dic1:\n",
    "        for x2 in dic2:\n",
    "            for x3 in dic3:\n",
    "                temp = list(x1 + x2 + x3)\n",
    "                temp.sort()\n",
    "                temp = tuple(temp)\n",
    "                if temp not in new_dic:\n",
    "                    new_dic[temp] = 0\n",
    "                new_dic[temp] += (dic1[x1]*dic2[x2])\n",
    "    return new_dic\n",
    "\n",
    "# multiple_three_dict({(0,1):1}, {(0,2):1}, {(3,2):1})"
   ]
  },
  {
   "cell_type": "code",
   "execution_count": 8,
   "id": "4484c33c-79b7-4bb3-8723-850a7c523733",
   "metadata": {
    "tags": []
   },
   "outputs": [],
   "source": [
    "dic_arr = []\n",
    "for k in range(N//2):\n",
    "    dic_arr.append({})\n",
    "    for i in range(N):\n",
    "        i_plus_k = (i+k)%N\n",
    "        temp =[i, i_plus_k]\n",
    "        temp.sort()\n",
    "        temp = tuple(temp)\n",
    "        dic_arr[-1][temp] = 1\n",
    "        \n",
    "dic_arr.append({})\n",
    "for i in range(N//2):\n",
    "    i_plus_k = (i+N//2)%N\n",
    "    temp =[i, i_plus_k]\n",
    "    temp.sort()\n",
    "    temp = tuple(temp)\n",
    "    dic_arr[-1][temp] = 1\n",
    "\n",
    "# for k in range(N//2+1):\n",
    "#     print(dic_arr[k])"
   ]
  },
  {
   "cell_type": "code",
   "execution_count": 11,
   "id": "c27b9b09-f81d-4c63-af0e-56406e690903",
   "metadata": {
    "tags": []
   },
   "outputs": [
    {
     "name": "stdout",
     "output_type": "stream",
     "text": [
      "84\n"
     ]
    }
   ],
   "source": [
    "dic_arr_6 = []\n",
    "for i in range(N//2+1):\n",
    "    for j in range(i+1):\n",
    "        for k in range(j+1):\n",
    "            dic_arr_6.append(multiple_three_dict(dic_arr[i], dic_arr[j], dic_arr[k]))\n",
    "print(len(dic_arr_6))\n",
    "# print(len(dic_arr_6[0]))\n",
    "# print(dic_arr_6[0])"
   ]
  },
  {
   "cell_type": "code",
   "execution_count": 12,
   "id": "825c662e-9422-4fb4-b4d6-7eaa3efd5b78",
   "metadata": {
    "tags": []
   },
   "outputs": [],
   "source": [
    "\n",
    "target = all_6_pair.copy()\n",
    "target_arr = [[0,3,6,9],\n",
    "              [1,4,7,10],\n",
    "              [2,5,8,11],\n",
    "             ]\n",
    "\n",
    "for i in target_arr[0]:\n",
    "    for j in target_arr[0]:\n",
    "        for k in target_arr[1]:\n",
    "            for l in target_arr[1]:\n",
    "                for s in target_arr[2]:\n",
    "                    for t in target_arr[2]:\n",
    "                        temp = [i,j,k,l,s,t]\n",
    "                        temp.sort()\n",
    "                        target[tuple(temp)] += 1\n"
   ]
  },
  {
   "cell_type": "code",
   "execution_count": 14,
   "id": "8d5b0956-02e7-426a-8db2-619f50f3cda2",
   "metadata": {
    "tags": []
   },
   "outputs": [
    {
     "name": "stdout",
     "output_type": "stream",
     "text": [
      "1000\n",
      "(12376, 84)\n",
      "(12376, 1)\n"
     ]
    }
   ],
   "source": [
    "A = np.zeros((len(all_6_pair), len(dic_arr_6)))\n",
    "b = np.zeros((len(all_6_pair),1))\n",
    "\n",
    "for i in range(len(all_6_arr)):\n",
    "    b[i,0] = target[all_6_arr[i]]\n",
    "# for i in range(len(all_4_arr)):\n",
    "#     b[i,0] = dic_arr_4[0][all_4_arr[i]]+ 2*dic_arr_4[2][all_4_arr[i]]\n",
    "print(np.sum(b>0))\n",
    "print(A.shape)\n",
    "print(b.shape)\n",
    "\n",
    "for k in range(len(dic_arr_6)):\n",
    "    for i in range(len(all_6_arr)):\n",
    "        A[i,k] = dic_arr_6[k][all_6_arr[i]]"
   ]
  },
  {
   "cell_type": "code",
   "execution_count": 15,
   "id": "a804d026-6c09-4cab-9a32-fddd3ad35245",
   "metadata": {
    "tags": []
   },
   "outputs": [
    {
     "name": "stdout",
     "output_type": "stream",
     "text": [
      "7932.977563261526\n",
      "(12376, 84)\n",
      "[[ 0.00819958 -0.0189092  -0.02763942  0.07481893 -0.01965292 -0.06361\n",
      "   0.24487903 -0.02469156  0.2480829   0.07498357  0.0717545  -0.12221869\n",
      "  -0.03550547 -0.12277246 -0.10398843 -0.0425419   0.18342643 -0.16360713\n",
      "  -0.15770383  0.14951696 -0.01975522 -0.06372119  0.2487538  -0.06057565\n",
      "   0.52044325  0.23701192 -0.12263374 -0.10491656 -0.10637152 -0.15775512\n",
      "  -0.0247401   0.24797318  0.2414679  -0.04162788  0.07402268 -0.0189092\n",
      "  -0.0657821   0.24022694 -0.06361     0.52263024  0.2480829  -0.12221869\n",
      "  -0.09425934 -0.10398843 -0.16360713 -0.06372119  0.51373389  0.52044325\n",
      "  -0.10491656  0.24797318 -0.02763942  0.24022694  0.24487903 -0.03550547\n",
      "   0.2487538   0.07481893  0.0784389  -0.13251896 -0.04260971 -0.13582908\n",
      "  -0.10655377 -0.03811832  0.41663441 -0.42281901 -0.42232648  0.53034873\n",
      "  -0.13599683 -0.10848659 -0.0847974  -0.42246927 -0.03609934 -0.13251896\n",
      "  -0.09418236 -0.10655377 -0.42281901 -0.10848659 -0.04260971  0.16957702\n",
      "  -0.10059964 -0.10616797  0.48553097 -0.10551095 -0.10059964  0.09939596]]\n"
     ]
    }
   ],
   "source": [
    "Q, R = np.linalg.qr(A, mode='reduced')\n",
    "Qb = np.matmul(Q.T, b)\n",
    "ans = np.linalg.solve(R,Qb)\n",
    "\n",
    "b_hat = np.matmul(A, ans)\n",
    "print(np.sum(np.abs(b_hat-b)))\n",
    "print(A.shape)\n",
    "print(ans.T)"
   ]
  },
  {
   "cell_type": "code",
   "execution_count": null,
   "id": "d3b323b5-32dc-45b6-8391-f5c10f2538fd",
   "metadata": {},
   "outputs": [],
   "source": []
  }
 ],
 "metadata": {
  "kernelspec": {
   "display_name": "Python 3 (ipykernel)",
   "language": "python",
   "name": "python3"
  },
  "language_info": {
   "codemirror_mode": {
    "name": "ipython",
    "version": 3
   },
   "file_extension": ".py",
   "mimetype": "text/x-python",
   "name": "python",
   "nbconvert_exporter": "python",
   "pygments_lexer": "ipython3",
   "version": "3.7.3"
  }
 },
 "nbformat": 4,
 "nbformat_minor": 5
}
