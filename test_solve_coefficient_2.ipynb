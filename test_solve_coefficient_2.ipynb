{
 "cells": [
  {
   "cell_type": "code",
   "execution_count": 1,
   "id": "53d52bdd-2b85-4cae-9852-55d019df87a7",
   "metadata": {
    "tags": []
   },
   "outputs": [],
   "source": [
    "import IPython.display as ipd\n",
    "\n",
    "import numpy as np\n",
    "import torch\n",
    "\n",
    "\n",
    "# import stft_64_pad_0 as stft\n",
    "import stft_64 as stft\n",
    "from audio_processing import griffin_lim\n",
    "\n",
    "from scipy.io.wavfile import read\n",
    "import time"
   ]
  },
  {
   "cell_type": "code",
   "execution_count": 2,
   "id": "0d6cef84-75e4-4c4d-9207-4a9356af39b6",
   "metadata": {
    "tags": []
   },
   "outputs": [],
   "source": [
    "N = 16"
   ]
  },
  {
   "cell_type": "code",
   "execution_count": 3,
   "id": "58d3d506-731b-4e82-86a1-91d7464b9588",
   "metadata": {
    "tags": []
   },
   "outputs": [
    {
     "name": "stdout",
     "output_type": "stream",
     "text": [
      "136\n"
     ]
    }
   ],
   "source": [
    "all_2_pair = {}\n",
    "for i in range(N):\n",
    "    for j in range(N):\n",
    "        temp = [i,j]\n",
    "        temp.sort()\n",
    "        if tuple(temp) not in all_2_pair:\n",
    "            all_2_pair[tuple(temp)] = 0\n",
    "                    \n",
    "print(len(all_2_pair))\n",
    "# print(all_4_pair)\n",
    "\n",
    "all_2_arr = list(all_2_pair)\n",
    "# print(all_4_arr)"
   ]
  },
  {
   "cell_type": "code",
   "execution_count": 4,
   "id": "d64c2799-c444-4372-8bbb-fbe53d57af61",
   "metadata": {
    "tags": []
   },
   "outputs": [],
   "source": [
    "def multiple_two_dict(dic1, dic2):\n",
    "    new_dic = all_2_pair.copy()\n",
    "    for x1 in dic1:\n",
    "        for x2 in dic2:\n",
    "            temp = list(x1 + x2)\n",
    "            temp.sort()\n",
    "            temp = tuple(temp)\n",
    "            if temp not in new_dic:\n",
    "                new_dic[temp] = 0\n",
    "            new_dic[temp] += (dic1[x1]*dic2[x2])\n",
    "    return new_dic\n",
    "\n",
    "# multiple_two_dict({(0,1):1}, {(0,2):1})"
   ]
  },
  {
   "cell_type": "code",
   "execution_count": 5,
   "id": "4484c33c-79b7-4bb3-8723-850a7c523733",
   "metadata": {
    "tags": []
   },
   "outputs": [],
   "source": [
    "dic_arr = []\n",
    "for k in range(N//2):\n",
    "    dic_arr.append(all_2_pair.copy())\n",
    "    for i in range(N):\n",
    "        i_plus_k = (i+k)%N\n",
    "        temp =[i, i_plus_k]\n",
    "        temp.sort()\n",
    "        temp = tuple(temp)\n",
    "        dic_arr[-1][temp] = 1\n",
    "        \n",
    "dic_arr.append(all_2_pair.copy())\n",
    "for i in range(N//2):\n",
    "    i_plus_k = (i+N//2)%N\n",
    "    temp =[i, i_plus_k]\n",
    "    temp.sort()\n",
    "    temp = tuple(temp)\n",
    "    dic_arr[-1][temp] = 1\n",
    "\n",
    "# for k in range(N//2+1):\n",
    "#     print(dic_arr[k])"
   ]
  },
  {
   "cell_type": "code",
   "execution_count": 6,
   "id": "825c662e-9422-4fb4-b4d6-7eaa3efd5b78",
   "metadata": {
    "tags": []
   },
   "outputs": [
    {
     "name": "stdout",
     "output_type": "stream",
     "text": [
      "{(0, 0): 0, (0, 1): 1, (0, 2): 1, (0, 3): 1, (0, 4): 0, (0, 5): 1, (0, 6): 1, (0, 7): 1, (0, 8): 0, (0, 9): 1, (0, 10): 1, (0, 11): 1, (0, 12): 0, (0, 13): 1, (0, 14): 1, (0, 15): 1, (1, 1): 0, (1, 2): 1, (1, 3): 1, (1, 4): 1, (1, 5): 0, (1, 6): 1, (1, 7): 1, (1, 8): 1, (1, 9): 0, (1, 10): 1, (1, 11): 1, (1, 12): 1, (1, 13): 0, (1, 14): 1, (1, 15): 1, (2, 2): 0, (2, 3): 1, (2, 4): 1, (2, 5): 1, (2, 6): 0, (2, 7): 1, (2, 8): 1, (2, 9): 1, (2, 10): 0, (2, 11): 1, (2, 12): 1, (2, 13): 1, (2, 14): 0, (2, 15): 1, (3, 3): 0, (3, 4): 1, (3, 5): 1, (3, 6): 1, (3, 7): 0, (3, 8): 1, (3, 9): 1, (3, 10): 1, (3, 11): 0, (3, 12): 1, (3, 13): 1, (3, 14): 1, (3, 15): 0, (4, 4): 0, (4, 5): 1, (4, 6): 1, (4, 7): 1, (4, 8): 0, (4, 9): 1, (4, 10): 1, (4, 11): 1, (4, 12): 0, (4, 13): 1, (4, 14): 1, (4, 15): 1, (5, 5): 0, (5, 6): 1, (5, 7): 1, (5, 8): 1, (5, 9): 0, (5, 10): 1, (5, 11): 1, (5, 12): 1, (5, 13): 0, (5, 14): 1, (5, 15): 1, (6, 6): 0, (6, 7): 1, (6, 8): 1, (6, 9): 1, (6, 10): 0, (6, 11): 1, (6, 12): 1, (6, 13): 1, (6, 14): 0, (6, 15): 1, (7, 7): 0, (7, 8): 1, (7, 9): 1, (7, 10): 1, (7, 11): 0, (7, 12): 1, (7, 13): 1, (7, 14): 1, (7, 15): 0, (8, 8): 0, (8, 9): 1, (8, 10): 1, (8, 11): 1, (8, 12): 0, (8, 13): 1, (8, 14): 1, (8, 15): 1, (9, 9): 0, (9, 10): 1, (9, 11): 1, (9, 12): 1, (9, 13): 0, (9, 14): 1, (9, 15): 1, (10, 10): 0, (10, 11): 1, (10, 12): 1, (10, 13): 1, (10, 14): 0, (10, 15): 1, (11, 11): 0, (11, 12): 1, (11, 13): 1, (11, 14): 1, (11, 15): 0, (12, 12): 0, (12, 13): 1, (12, 14): 1, (12, 15): 1, (13, 13): 0, (13, 14): 1, (13, 15): 1, (14, 14): 0, (14, 15): 1, (15, 15): 0}\n"
     ]
    }
   ],
   "source": [
    "target = all_2_pair.copy()\n",
    "target_arr = [[0,4,8,12],\n",
    "              [1,5,9,13],\n",
    "              [2,6,10,14],\n",
    "              [3,7,11,15],\n",
    "             ]\n",
    "\n",
    "for s1 in range(4):\n",
    "    for s2 in range(s1):\n",
    "        for i in target_arr[s1]:\n",
    "            for j in target_arr[s2]:\n",
    "                temp = [i,j]\n",
    "                temp.sort()\n",
    "                target[tuple(temp)] += 1\n",
    "print(target)"
   ]
  },
  {
   "cell_type": "code",
   "execution_count": 7,
   "id": "8d5b0956-02e7-426a-8db2-619f50f3cda2",
   "metadata": {
    "tags": []
   },
   "outputs": [
    {
     "name": "stdout",
     "output_type": "stream",
     "text": [
      "96\n"
     ]
    }
   ],
   "source": [
    "A = np.zeros((len(all_2_pair), len(dic_arr)))\n",
    "b = np.zeros((len(all_2_pair),1))\n",
    "\n",
    "for i in range(len(all_2_arr)):\n",
    "    b[i,0] = target[all_2_arr[i]]\n",
    "print(np.sum(b>0))\n",
    "    \n",
    "for k in range(len(dic_arr)):\n",
    "    for i in range(len(all_2_arr)):\n",
    "        A[i,k] = dic_arr[k][all_2_arr[i]]"
   ]
  },
  {
   "cell_type": "code",
   "execution_count": 8,
   "id": "a804d026-6c09-4cab-9a32-fddd3ad35245",
   "metadata": {
    "tags": []
   },
   "outputs": [
    {
     "name": "stdout",
     "output_type": "stream",
     "text": [
      "4.263256414560601e-14\n",
      "[[-0.]\n",
      " [ 1.]\n",
      " [ 1.]\n",
      " [ 1.]\n",
      " [-0.]\n",
      " [ 1.]\n",
      " [ 1.]\n",
      " [ 1.]\n",
      " [-0.]]\n"
     ]
    }
   ],
   "source": [
    "Q, R = np.linalg.qr(A, mode='reduced')\n",
    "Qb = np.matmul(Q.T, b)\n",
    "ans = np.linalg.solve(R,Qb)\n",
    "\n",
    "b_hat = np.matmul(A, ans)\n",
    "print(np.sum(np.abs(b_hat-b)))\n",
    "print(ans)"
   ]
  },
  {
   "cell_type": "code",
   "execution_count": null,
   "id": "b9241c69-5309-42a2-863b-2c98e6a0ac01",
   "metadata": {},
   "outputs": [],
   "source": []
  }
 ],
 "metadata": {
  "kernelspec": {
   "display_name": "Python 3 (ipykernel)",
   "language": "python",
   "name": "python3"
  },
  "language_info": {
   "codemirror_mode": {
    "name": "ipython",
    "version": 3
   },
   "file_extension": ".py",
   "mimetype": "text/x-python",
   "name": "python",
   "nbconvert_exporter": "python",
   "pygments_lexer": "ipython3",
   "version": "3.7.3"
  }
 },
 "nbformat": 4,
 "nbformat_minor": 5
}
