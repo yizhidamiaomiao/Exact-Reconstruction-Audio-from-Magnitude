{
 "cells": [
  {
   "cell_type": "code",
   "execution_count": 1,
   "id": "53d52bdd-2b85-4cae-9852-55d019df87a7",
   "metadata": {
    "tags": []
   },
   "outputs": [
    {
     "name": "stdout",
     "output_type": "stream",
     "text": [
      "Random seed set as 114514\n"
     ]
    }
   ],
   "source": [
    "import IPython.display as ipd\n",
    "\n",
    "import numpy as np\n",
    "import torch\n",
    "\n",
    "from audio_processing import griffin_lim\n",
    "\n",
    "from scipy.io.wavfile import read\n",
    "import time\n",
    "from reconstruct_functions import *\n",
    "import random\n",
    "import os\n",
    "\n",
    "def set_seed(seed: int = 42) -> None:\n",
    "    np.random.seed(seed)\n",
    "    random.seed(seed)\n",
    "    torch.manual_seed(seed)\n",
    "    torch.cuda.manual_seed(seed)\n",
    "    torch.backends.cudnn.deterministic = True\n",
    "    torch.backends.cudnn.benchmark = False\n",
    "    os.environ[\"PYTHONHASHSEED\"] = str(seed)\n",
    "    print(f\"Random seed set as {seed}\")\n",
    "\n",
    "set_seed(114514)"
   ]
  },
  {
   "cell_type": "code",
   "execution_count": 2,
   "id": "d01ad0e6-c39f-4eff-abe0-bb7e14983e97",
   "metadata": {
    "tags": []
   },
   "outputs": [],
   "source": [
    "hop_length = 1\n",
    "win_length = 4 ###at least 4*hop_length, even number\n",
    "full_length = win_length + 4*hop_length\n",
    "\n",
    "def get_Yw(input_signal, window, hop_length =1, win_length=4):\n",
    "    # input shape: [1,T]\n",
    "    # output shape: [(T+N-1)/H, T/2+1]\n",
    "    T = input_signal.shape[-1]\n",
    "    H = hop_length\n",
    "    N = win_length\n",
    "    Yw_real = torch.zeros(((T+N-1)//H, T//2+1), dtype=torch.float64)\n",
    "    Yw_imag = torch.zeros(((T+N-1)//H, T//2+1), dtype=torch.float64)\n",
    "    # pi = torch.acos(torch.zeros(1, dtype=torch.float64)).item() * 2\n",
    "    for m in range((T+N-1)//H):\n",
    "        for n in range(T//2+1):\n",
    "            for t in range(T):\n",
    "                if m*H-t<0 or m*H-t>=N:\n",
    "                    continue\n",
    "                Yw_real[m,n] = Yw_real[m,n]+ input_signal[0,t]*window[m*H-t]*np.cos(-2*np.pi*n*t/T)\n",
    "                Yw_imag[m,n] = Yw_imag[m,n]+ input_signal[0,t]*window[m*H-t]*np.sin(-2*np.pi*n*t/T)\n",
    "    return torch.sqrt(Yw_real**2 + Yw_imag**2)"
   ]
  },
  {
   "cell_type": "code",
   "execution_count": 3,
   "id": "b6b31542-c66e-496f-b85e-6be6f194bb72",
   "metadata": {
    "tags": []
   },
   "outputs": [],
   "source": [
    "\n",
    "\n",
    "def compute_reconstruction(input_signal, window):\n",
    "    # shape: [1,:]\n",
    "    magnitude  = get_Yw(input_signal, window, hop_length, win_length)\n",
    "    \n",
    "    ans = reconstruct_from_Yw_with_H_1(magnitude, window, hop_length)\n",
    "    \n",
    "    if ans[0,0]*input_signal[0,0]<0:\n",
    "        ans[:,:] = -ans[:,:]\n",
    "    print('ans', ans)\n",
    "    \n",
    "    return ans\n"
   ]
  },
  {
   "cell_type": "code",
   "execution_count": 4,
   "id": "8ccfdaf8-cd92-4c2b-8cec-fc9a5e74aba7",
   "metadata": {},
   "outputs": [
    {
     "name": "stdout",
     "output_type": "stream",
     "text": [
      "signal tensor([[ 0.0481,  0.6044,  0.4005,  0.3006,  0.1836, -0.8655,  0.7392, -0.5941]],\n",
      "       dtype=torch.float64)\n",
      "window tensor([0.5200, 0.5758, 0.7975, 0.0623], dtype=torch.float64)\n"
     ]
    },
    {
     "name": "stderr",
     "output_type": "stream",
     "text": [
      "100%|██████████| 6/6 [00:00<00:00, 4935.44it/s]\n"
     ]
    },
    {
     "name": "stdout",
     "output_type": "stream",
     "text": [
      "ans [[ 0.04805358  0.60435092  0.40050719  0.300559    0.18361471 -0.86551264\n",
      "   0.73915877 -0.59405125]]\n",
      "tensor(6.7741e-16, dtype=torch.float64)\n",
      "signal tensor([[-0.2879, -0.1142,  0.7590,  0.0166, -0.5702, -0.4450, -0.0190, -0.6339]],\n",
      "       dtype=torch.float64)\n",
      "window tensor([0.8980, 0.5529, 0.3195, 0.2646], dtype=torch.float64)\n"
     ]
    },
    {
     "name": "stderr",
     "output_type": "stream",
     "text": [
      "100%|██████████| 6/6 [00:00<00:00, 5212.47it/s]\n"
     ]
    },
    {
     "name": "stdout",
     "output_type": "stream",
     "text": [
      "ans [[-0.28792413 -0.11418192  0.7589735   0.01663292 -0.5702101  -0.44499301\n",
      "  -0.01900145 -0.63386279]]\n",
      "tensor(2.3597e-15, dtype=torch.float64)\n",
      "signal tensor([[-0.2687, -0.1315, -0.4979,  0.7037, -0.3971, -0.1072, -0.9203, -0.4680]],\n",
      "       dtype=torch.float64)\n",
      "window tensor([0.3985, 0.4288, 0.2968, 0.2912], dtype=torch.float64)\n"
     ]
    },
    {
     "name": "stderr",
     "output_type": "stream",
     "text": [
      "100%|██████████| 6/6 [00:00<00:00, 3994.58it/s]\n"
     ]
    },
    {
     "name": "stdout",
     "output_type": "stream",
     "text": [
      "ans [[-0.26865222 -0.13154937 -0.4978787   0.7037439  -0.39705772 -0.1071553\n",
      "  -0.92030933 -0.46798494]]\n",
      "tensor(3.9378e-16, dtype=torch.float64)\n",
      "signal tensor([[ 0.2368, -0.5671,  0.2125,  0.4021, -0.5473,  0.3924, -0.1698,  0.6180]],\n",
      "       dtype=torch.float64)\n",
      "window tensor([0.0754, 0.5051, 0.9403, 0.2933], dtype=torch.float64)\n"
     ]
    },
    {
     "name": "stderr",
     "output_type": "stream",
     "text": [
      "100%|██████████| 6/6 [00:00<00:00, 5470.83it/s]\n"
     ]
    },
    {
     "name": "stdout",
     "output_type": "stream",
     "text": [
      "ans [[ 0.23683362 -0.56706514  0.21251349  0.40205853 -0.54726437  0.39241571\n",
      "  -0.16983447  0.61804083]]\n",
      "tensor(5.6670e-11, dtype=torch.float64)\n",
      "signal tensor([[ 0.2323,  0.1480,  0.6167, -0.4830, -0.0279,  0.9758, -0.3849,  0.1666]],\n",
      "       dtype=torch.float64)\n",
      "window tensor([0.0495, 0.2478, 0.7105, 0.7416], dtype=torch.float64)\n"
     ]
    },
    {
     "name": "stderr",
     "output_type": "stream",
     "text": [
      "100%|██████████| 6/6 [00:00<00:00, 5729.92it/s]"
     ]
    },
    {
     "name": "stdout",
     "output_type": "stream",
     "text": [
      "ans [[ 0.23225625  0.14802665  0.61666715 -0.4829868  -0.02792985  0.97577104\n",
      "  -0.38487804  0.16657397]]\n",
      "tensor(1.0732e-11, dtype=torch.float64)\n",
      "1.348107936047227e-11\n",
      "4.835896387642082e-22\n"
     ]
    },
    {
     "name": "stderr",
     "output_type": "stream",
     "text": [
      "\n"
     ]
    }
   ],
   "source": [
    "test_time = 5\n",
    "data_arr = []\n",
    "\n",
    "for idx in range(test_time):\n",
    "    audio_origin = torch.rand((1,full_length), dtype=torch.float64)*2-1\n",
    "    \n",
    "    window = torch.rand((win_length), dtype=torch.float64)\n",
    "    print('signal', audio_origin)\n",
    "    print('window', window)\n",
    "    ans = compute_reconstruction(audio_origin, window)\n",
    "        \n",
    "    data_arr.append(torch.mean(torch.abs(audio_origin[0,:] - ans[0,:])))\n",
    "    print(torch.mean(torch.abs(audio_origin[0,:] - ans[0,:])))\n",
    "\n",
    "print(np.mean(data_arr))\n",
    "print(np.var(data_arr))"
   ]
  },
  {
   "cell_type": "code",
   "execution_count": null,
   "id": "35609655-004a-4795-8405-926a4e0909ce",
   "metadata": {},
   "outputs": [],
   "source": []
  },
  {
   "cell_type": "code",
   "execution_count": null,
   "id": "d2bfb44f-49d3-457d-8558-3b31e9188da8",
   "metadata": {},
   "outputs": [],
   "source": []
  }
 ],
 "metadata": {
  "kernelspec": {
   "display_name": "Python 3 (ipykernel)",
   "language": "python",
   "name": "python3"
  },
  "language_info": {
   "codemirror_mode": {
    "name": "ipython",
    "version": 3
   },
   "file_extension": ".py",
   "mimetype": "text/x-python",
   "name": "python",
   "nbconvert_exporter": "python",
   "pygments_lexer": "ipython3",
   "version": "3.7.3"
  }
 },
 "nbformat": 4,
 "nbformat_minor": 5
}
