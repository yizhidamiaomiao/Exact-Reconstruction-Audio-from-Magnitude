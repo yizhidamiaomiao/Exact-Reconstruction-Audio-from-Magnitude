{
 "cells": [
  {
   "cell_type": "code",
   "execution_count": 1,
   "id": "53d52bdd-2b85-4cae-9852-55d019df87a7",
   "metadata": {
    "tags": []
   },
   "outputs": [
    {
     "name": "stdout",
     "output_type": "stream",
     "text": [
      "Random seed set as 114514\n"
     ]
    }
   ],
   "source": [
    "import IPython.display as ipd\n",
    "\n",
    "import numpy as np\n",
    "import torch\n",
    "\n",
    "\n",
    "# import stft_64_pad_0 as stft\n",
    "import stft_64 as stft\n",
    "from audio_processing import griffin_lim\n",
    "\n",
    "from scipy.io.wavfile import read\n",
    "import time\n",
    "from reconstruct_functions import *\n",
    "import random\n",
    "import os\n",
    "\n",
    "def set_seed(seed: int = 42) -> None:\n",
    "    np.random.seed(seed)\n",
    "    random.seed(seed)\n",
    "    torch.manual_seed(seed)\n",
    "    torch.cuda.manual_seed(seed)\n",
    "    torch.backends.cudnn.deterministic = True\n",
    "    torch.backends.cudnn.benchmark = False\n",
    "    os.environ[\"PYTHONHASHSEED\"] = str(seed)\n",
    "    print(f\"Random seed set as {seed}\")\n",
    "\n",
    "set_seed(114514)"
   ]
  },
  {
   "cell_type": "code",
   "execution_count": 2,
   "id": "d01ad0e6-c39f-4eff-abe0-bb7e14983e97",
   "metadata": {
    "tags": []
   },
   "outputs": [],
   "source": [
    "hop_length = 1\n",
    "win_length = 4 ###at least 4*hop_length, even number\n",
    "channels = win_length//2+1\n",
    "full_length = 10000\n",
    "\n",
    "\n",
    "stft_fn = stft.STFT(filter_length=win_length, hop_length=hop_length, win_length=win_length,\n",
    "                    window=None)"
   ]
  },
  {
   "cell_type": "code",
   "execution_count": 3,
   "id": "b6b31542-c66e-496f-b85e-6be6f194bb72",
   "metadata": {
    "tags": []
   },
   "outputs": [],
   "source": [
    "\n",
    "# def magnitude_to_L_test(magnitude, forward_basis):\n",
    "#     # magnitude:      [1, 2H+1, T]\n",
    "#     # forward_basis:  [2H+1, 1, 4H]\n",
    "    \n",
    "#     # output L shape: [2H+1,T]\n",
    "#     H = (magnitude.shape[1]-1)//2\n",
    "#     basis = np.zeros((2*H+1,2*H+1), dtype= np.float64)\n",
    "#     basis[:, :] = forward_basis[:,0,:2*H+1]\n",
    "#     basis_inv = np.linalg.pinv(basis)\n",
    "#     L = np.matmul(basis_inv, magnitude[0,:,:]**2)\n",
    "#     L[1:2*H+1] = L[1:2*H+1]/2\n",
    "#     return L\n",
    "\n",
    "def compute_reconstruction(input_signal):\n",
    "    # shape: [1,:]\n",
    "    magnitude, phase_origin = stft_fn.transform(audio_origin)\n",
    "    magnitude    = magnitude[:,:,2:-2]\n",
    "    ans = reconstruct_from_S_with_H_1(magnitude, stft_fn, hop_length=1, frame_number=None)\n",
    "    if ans[0,0]*audio_origin[0,0]<0:\n",
    "        ans[:,:] = -ans[:,:]\n",
    "    return ans\n"
   ]
  },
  {
   "cell_type": "code",
   "execution_count": 4,
   "id": "8ccfdaf8-cd92-4c2b-8cec-fc9a5e74aba7",
   "metadata": {},
   "outputs": [
    {
     "name": "stderr",
     "output_type": "stream",
     "text": [
      "100%|██████████| 9994/9994 [00:21<00:00, 472.92it/s]\n"
     ]
    },
    {
     "name": "stdout",
     "output_type": "stream",
     "text": [
      "tensor(2.9464e-15, dtype=torch.float64)\n"
     ]
    },
    {
     "name": "stderr",
     "output_type": "stream",
     "text": [
      "100%|██████████| 9994/9994 [00:26<00:00, 381.03it/s]\n"
     ]
    },
    {
     "name": "stdout",
     "output_type": "stream",
     "text": [
      "tensor(7.5918e-15, dtype=torch.float64)\n"
     ]
    },
    {
     "name": "stderr",
     "output_type": "stream",
     "text": [
      "100%|██████████| 9994/9994 [00:25<00:00, 388.50it/s]\n"
     ]
    },
    {
     "name": "stdout",
     "output_type": "stream",
     "text": [
      "tensor(1.9405e-15, dtype=torch.float64)\n"
     ]
    },
    {
     "name": "stderr",
     "output_type": "stream",
     "text": [
      "100%|██████████| 9994/9994 [00:24<00:00, 403.43it/s]\n"
     ]
    },
    {
     "name": "stdout",
     "output_type": "stream",
     "text": [
      "tensor(2.9616e-15, dtype=torch.float64)\n"
     ]
    },
    {
     "name": "stderr",
     "output_type": "stream",
     "text": [
      "100%|██████████| 9994/9994 [00:20<00:00, 485.73it/s]"
     ]
    },
    {
     "name": "stdout",
     "output_type": "stream",
     "text": [
      "tensor(3.6977e-15, dtype=torch.float64)\n",
      "3.827600072829617e-15\n",
      "3.854678239885183e-30\n"
     ]
    },
    {
     "name": "stderr",
     "output_type": "stream",
     "text": [
      "\n"
     ]
    }
   ],
   "source": [
    "test_time = 5\n",
    "data_arr = []\n",
    "\n",
    "for idx in range(test_time):\n",
    "    audio_origin = (torch.rand((1,full_length), dtype=torch.float64)*2-1)\n",
    "    ans = compute_reconstruction(audio_origin)\n",
    "    data_arr.append(torch.mean(torch.abs(audio_origin[0,:] - ans[0,:])))\n",
    "    print(torch.mean(torch.abs(audio_origin[0,:] - ans[0,:])))\n",
    "\n",
    "print(np.mean(data_arr))\n",
    "print(np.var(data_arr))"
   ]
  },
  {
   "cell_type": "code",
   "execution_count": 5,
   "id": "911c84e8-ce7f-4c77-83c7-37809fa5d03f",
   "metadata": {},
   "outputs": [
    {
     "name": "stdout",
     "output_type": "stream",
     "text": [
      "tensor(-0.9999, dtype=torch.float64)\n"
     ]
    }
   ],
   "source": [
    "print(torch.min(audio_origin))"
   ]
  },
  {
   "cell_type": "code",
   "execution_count": null,
   "id": "f3a6959e-d7d9-4017-909b-dd277650ddfb",
   "metadata": {},
   "outputs": [],
   "source": []
  }
 ],
 "metadata": {
  "kernelspec": {
   "display_name": "Python 3 (ipykernel)",
   "language": "python",
   "name": "python3"
  },
  "language_info": {
   "codemirror_mode": {
    "name": "ipython",
    "version": 3
   },
   "file_extension": ".py",
   "mimetype": "text/x-python",
   "name": "python",
   "nbconvert_exporter": "python",
   "pygments_lexer": "ipython3",
   "version": "3.7.3"
  }
 },
 "nbformat": 4,
 "nbformat_minor": 5
}
