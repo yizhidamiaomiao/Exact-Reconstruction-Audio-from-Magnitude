{
 "cells": [
  {
   "cell_type": "code",
   "execution_count": 1,
   "id": "53d52bdd-2b85-4cae-9852-55d019df87a7",
   "metadata": {
    "tags": []
   },
   "outputs": [],
   "source": [
    "import IPython.display as ipd\n",
    "\n",
    "import numpy as np\n",
    "import torch\n",
    "\n",
    "\n",
    "# import stft_64_pad_0 as stft\n",
    "import stft_64 as stft\n",
    "from audio_processing import griffin_lim\n",
    "\n",
    "from scipy.io.wavfile import read\n",
    "import time\n",
    "from reconstruct_functions import *"
   ]
  },
  {
   "cell_type": "code",
   "execution_count": 2,
   "id": "d01ad0e6-c39f-4eff-abe0-bb7e14983e97",
   "metadata": {
    "tags": []
   },
   "outputs": [
    {
     "name": "stdout",
     "output_type": "stream",
     "text": [
      "torch.Size([1, 98560])\n",
      "tensor([ 0.0380,  0.0185, -0.0360, -0.0357,  0.0195,  0.0406, -0.0009, -0.0261,\n",
      "        -0.0027,  0.0140], dtype=torch.float64)\n"
     ]
    }
   ],
   "source": [
    "hop_length = 2\n",
    "win_length = 8 ###at least 4*hop_length, even number\n",
    "channels = win_length//2+1\n",
    "\n",
    "def load_wav_to_torch(full_path):\n",
    "    sampling_rate, data = read(full_path)\n",
    "    data = data.astype(np.float64)\n",
    "    # data = np.round(data,decimals=6)\n",
    "    return torch.DoubleTensor(data), sampling_rate\n",
    "\n",
    "audio_origin, sampling_rate = load_wav_to_torch('demo.wav')\n",
    "audio_origin = audio_origin[None,:]\n",
    "\n",
    "# audio_origin = torch.rand((1,wav_length), dtype=torch.float64)\n",
    "\n",
    "print(audio_origin.shape)\n",
    "print(audio_origin[0,:10])"
   ]
  },
  {
   "cell_type": "code",
   "execution_count": 3,
   "id": "596b5653-6b90-4e57-9226-0bcac9dcd36a",
   "metadata": {
    "tags": []
   },
   "outputs": [],
   "source": [
    "# stft_fn = stft.STFT(filter_length=4, hop_length=1, win_length=4,\n",
    "#                     window='hann')\n",
    "\n",
    "stft_fn = stft.STFT(filter_length=win_length, hop_length=hop_length, win_length=win_length,\n",
    "                    window=None)\n",
    "\n",
    "\n",
    "def compare(a,b):\n",
    "    return torch.mean(torch.abs(a-b)), torch.mean((a-b)*(a-b))\n",
    "\n",
    "def compare_L1(ori,gen):\n",
    "    return torch.mean(torch.abs(ori-gen)/torch.abs(ori))\n",
    "\n",
    "\n",
    "def compare_L2(a,b):\n",
    "    return torch.sum(torch.abs(a-b)), torch.sum((a-b)*(a-b))\n"
   ]
  },
  {
   "cell_type": "code",
   "execution_count": 4,
   "id": "b6b31542-c66e-496f-b85e-6be6f194bb72",
   "metadata": {
    "tags": []
   },
   "outputs": [
    {
     "name": "stdout",
     "output_type": "stream",
     "text": [
      "torch.Size([10, 1, 8])\n",
      "tensor([0.0488, 0.0952, 0.1295, 0.0582, 0.0198], dtype=torch.float64)\n",
      "torch.Size([1, 5, 49277])\n"
     ]
    }
   ],
   "source": [
    "magnitude, phase_origin = stft_fn.transform(audio_origin)\n",
    "\n",
    "forward_basis = stft_fn.forward_basis\n",
    "print(forward_basis.shape)\n",
    "start_frame = 0\n",
    "print(magnitude[0,:,start_frame])\n",
    "magnitude    = magnitude[:,:,2:-2]\n",
    "print(magnitude.shape)\n"
   ]
  },
  {
   "cell_type": "code",
   "execution_count": 5,
   "id": "921cd0fb-65ee-4fa7-8b3d-f361cb14d942",
   "metadata": {
    "tags": []
   },
   "outputs": [
    {
     "name": "stderr",
     "output_type": "stream",
     "text": [
      "100%|██████████| 49274/49274 [23:14<00:00, 35.34it/s]  \n"
     ]
    }
   ],
   "source": [
    "ans = reconstruct_from_S_with_H_2(magnitude, stft_fn, hop_length=2, frame_number=None)\n"
   ]
  },
  {
   "cell_type": "code",
   "execution_count": 6,
   "id": "650f8f17-829b-4cf3-9631-16d44c38c9d8",
   "metadata": {
    "tags": []
   },
   "outputs": [],
   "source": [
    "if ans[0,0]*audio_origin[0,0]<0:\n",
    "    ans[:,:] = -ans[:,:]"
   ]
  },
  {
   "cell_type": "code",
   "execution_count": 7,
   "id": "6521610e-8f5b-43b4-9d5d-f395dd0cec3c",
   "metadata": {},
   "outputs": [
    {
     "name": "stdout",
     "output_type": "stream",
     "text": [
      "tensor(3.5160e-15, dtype=torch.float64)\n"
     ]
    }
   ],
   "source": [
    "\n",
    "start_frame = 0\n",
    "end_frame = 1900\n",
    "T_start = start_frame * hop_length + win_length-hop_length\n",
    "T_end = end_frame * hop_length + win_length-hop_length\n",
    "# print(ans[0,T_start:T_end])\n",
    "# print(audio_origin[0,T_start:T_end])\n",
    "print(torch.mean(torch.abs(audio_origin[0,T_start:T_end] - ans[0,T_start:T_end])))"
   ]
  },
  {
   "cell_type": "code",
   "execution_count": 8,
   "id": "d3e55016-2a1d-456b-b0b4-f9ae7f78aa69",
   "metadata": {
    "tags": []
   },
   "outputs": [
    {
     "name": "stdout",
     "output_type": "stream",
     "text": [
      "[-1.26924727e-03 -1.14603038e-03 -8.32255930e-04 -1.07198174e-03\n",
      " -7.56122463e-04 -4.71334875e-04 -3.07979644e-04 -1.74949091e-04\n",
      " -2.47407472e-04  5.36974985e-05  8.55077815e-05 -4.05335304e-05\n",
      "  1.85433921e-04  3.66384891e-04  1.64354744e-04  2.64009112e-04\n",
      "  3.09011841e-04  8.89946241e-05  1.77230206e-04  3.73422517e-04]\n",
      "tensor([-1.2692e-03, -1.1460e-03, -8.3226e-04, -1.0720e-03, -7.5612e-04,\n",
      "        -4.7133e-04, -3.0798e-04, -1.7495e-04, -2.4741e-04,  5.3697e-05,\n",
      "         8.5508e-05, -4.0534e-05,  1.8543e-04,  3.6638e-04,  1.6435e-04,\n",
      "         2.6401e-04,  3.0901e-04,  8.8995e-05,  1.7723e-04,  3.7342e-04],\n",
      "       dtype=torch.float64)\n",
      "tensor(7.0086e-14, dtype=torch.float64)\n"
     ]
    }
   ],
   "source": [
    "\n",
    "print(ans[0,-20:])\n",
    "print(audio_origin[0,-20:])\n",
    "print(torch.mean(torch.abs(audio_origin[0,:] - ans[0,:])))"
   ]
  },
  {
   "cell_type": "code",
   "execution_count": null,
   "id": "40c481fc-c3c5-4fbe-aaf8-f3bd1cab5ecb",
   "metadata": {},
   "outputs": [],
   "source": []
  }
 ],
 "metadata": {
  "kernelspec": {
   "display_name": "Python 3 (ipykernel)",
   "language": "python",
   "name": "python3"
  },
  "language_info": {
   "codemirror_mode": {
    "name": "ipython",
    "version": 3
   },
   "file_extension": ".py",
   "mimetype": "text/x-python",
   "name": "python",
   "nbconvert_exporter": "python",
   "pygments_lexer": "ipython3",
   "version": "3.7.3"
  }
 },
 "nbformat": 4,
 "nbformat_minor": 5
}
