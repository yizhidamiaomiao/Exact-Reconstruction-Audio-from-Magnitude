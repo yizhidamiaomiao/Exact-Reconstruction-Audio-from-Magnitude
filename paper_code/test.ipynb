{
 "cells": [
  {
   "cell_type": "code",
   "execution_count": 1,
   "id": "53d52bdd-2b85-4cae-9852-55d019df87a7",
   "metadata": {
    "tags": []
   },
   "outputs": [],
   "source": [
    "import IPython.display as ipd\n",
    "\n",
    "import numpy as np\n",
    "import torch\n",
    "\n",
    "\n",
    "# import stft_64_pad_0 as stft\n",
    "import stft_64 as stft\n",
    "from audio_processing import griffin_lim\n",
    "\n",
    "from scipy.io.wavfile import read\n",
    "import time\n",
    "from reconstruct_functions import *"
   ]
  },
  {
   "cell_type": "code",
   "execution_count": 2,
   "id": "d01ad0e6-c39f-4eff-abe0-bb7e14983e97",
   "metadata": {
    "tags": []
   },
   "outputs": [
    {
     "name": "stdout",
     "output_type": "stream",
     "text": [
      "torch.Size([1, 20])\n",
      "tensor([-0.0663, -0.0522, -0.0448, -0.0367, -0.0226, -0.0133, -0.0003,  0.0126,\n",
      "         0.0262,  0.0389], dtype=torch.float64)\n"
     ]
    }
   ],
   "source": [
    "hop_length = 2\n",
    "win_length = 8 ###at least 4*hop_length, even number\n",
    "channels = win_length//2+1\n",
    "\n",
    "def load_wav_to_torch(full_path):\n",
    "    sampling_rate, data = read(full_path)\n",
    "    data = data.astype(np.float64)\n",
    "    # data = np.round(data,decimals=6)\n",
    "    return torch.DoubleTensor(data), sampling_rate\n",
    "\n",
    "\n",
    "START =82698\n",
    "audio_origin, sampling_rate = load_wav_to_torch('demo.wav')\n",
    "audio_origin = audio_origin[None,START:START+20]\n",
    "\n",
    "# audio_origin = torch.rand((1,wav_length), dtype=torch.float64)\n",
    "\n",
    "print(audio_origin.shape)\n",
    "print(audio_origin[0,:10])"
   ]
  },
  {
   "cell_type": "code",
   "execution_count": 3,
   "id": "596b5653-6b90-4e57-9226-0bcac9dcd36a",
   "metadata": {
    "tags": []
   },
   "outputs": [],
   "source": [
    "# stft_fn = stft.STFT(filter_length=4, hop_length=1, win_length=4,\n",
    "#                     window='hann')\n",
    "\n",
    "stft_fn = stft.STFT(filter_length=win_length, hop_length=hop_length, win_length=win_length,\n",
    "                    window=None)\n",
    "\n",
    "\n",
    "def compare(a,b):\n",
    "    return torch.mean(torch.abs(a-b)), torch.mean((a-b)*(a-b))\n",
    "\n",
    "def compare_L1(ori,gen):\n",
    "    return torch.mean(torch.abs(ori-gen)/torch.abs(ori))\n",
    "\n",
    "\n",
    "def compare_L2(a,b):\n",
    "    return torch.sum(torch.abs(a-b)), torch.sum((a-b)*(a-b))\n"
   ]
  },
  {
   "cell_type": "code",
   "execution_count": 4,
   "id": "b6b31542-c66e-496f-b85e-6be6f194bb72",
   "metadata": {
    "tags": []
   },
   "outputs": [
    {
     "name": "stdout",
     "output_type": "stream",
     "text": [
      "torch.Size([10, 1, 8])\n",
      "tensor([0.3561, 0.0656, 0.0008, 0.0218, 0.0008], dtype=torch.float64)\n",
      "torch.Size([1, 5, 7])\n"
     ]
    }
   ],
   "source": [
    "magnitude, phase_origin = stft_fn.transform(audio_origin)\n",
    "\n",
    "forward_basis = stft_fn.forward_basis\n",
    "print(forward_basis.shape)\n",
    "start_frame = 0\n",
    "print(magnitude[0,:,start_frame])\n",
    "magnitude    = magnitude[:,:,2:-2]\n",
    "print(magnitude.shape)\n"
   ]
  },
  {
   "cell_type": "code",
   "execution_count": 5,
   "id": "921cd0fb-65ee-4fa7-8b3d-f361cb14d942",
   "metadata": {
    "tags": []
   },
   "outputs": [
    {
     "name": "stderr",
     "output_type": "stream",
     "text": [
      "100%|██████████| 4/4 [00:00<00:00, 35.45it/s]\n"
     ]
    }
   ],
   "source": [
    "ans = reconstruct_from_S_with_H_2(magnitude, stft_fn, hop_length=2, frame_number=None)\n"
   ]
  },
  {
   "cell_type": "code",
   "execution_count": 6,
   "id": "650f8f17-829b-4cf3-9631-16d44c38c9d8",
   "metadata": {
    "tags": []
   },
   "outputs": [],
   "source": [
    "if ans[0,0]*audio_origin[0,0]<0:\n",
    "    ans[:,:] = -ans[:,:]"
   ]
  },
  {
   "cell_type": "code",
   "execution_count": 7,
   "id": "6521610e-8f5b-43b4-9d5d-f395dd0cec3c",
   "metadata": {},
   "outputs": [
    {
     "name": "stdout",
     "output_type": "stream",
     "text": [
      "tensor(3.5076e-13, dtype=torch.float64)\n"
     ]
    }
   ],
   "source": [
    "\n",
    "start_frame = 0\n",
    "end_frame = 1900\n",
    "T_start = start_frame * hop_length + win_length-hop_length\n",
    "T_end = end_frame * hop_length + win_length-hop_length\n",
    "# print(ans[0,T_start:T_end])\n",
    "# print(audio_origin[0,T_start:T_end])\n",
    "print(torch.mean(torch.abs(audio_origin[0,T_start:T_end] - ans[0,T_start:T_end])))"
   ]
  },
  {
   "cell_type": "code",
   "execution_count": 8,
   "id": "d3e55016-2a1d-456b-b0b4-f9ae7f78aa69",
   "metadata": {
    "tags": []
   },
   "outputs": [
    {
     "name": "stdout",
     "output_type": "stream",
     "text": [
      "[-0.06625904 -0.05217025 -0.04480392 -0.03666257 -0.02256725 -0.01326675\n",
      " -0.00030922  0.01262541  0.0261763   0.03892441  0.04308636  0.04995391\n",
      "  0.05208456  0.05477565  0.06344106  0.06448425  0.07074052  0.07725294\n",
      "  0.07963908  0.07844818]\n",
      "tensor([-0.0663, -0.0522, -0.0448, -0.0367, -0.0226, -0.0133, -0.0003,  0.0126,\n",
      "         0.0262,  0.0389,  0.0431,  0.0500,  0.0521,  0.0548,  0.0634,  0.0645,\n",
      "         0.0707,  0.0773,  0.0796,  0.0784], dtype=torch.float64)\n",
      "tensor(4.9103e-13, dtype=torch.float64)\n"
     ]
    }
   ],
   "source": [
    "\n",
    "print(ans[0,-20:])\n",
    "print(audio_origin[0,-20:])\n",
    "print(torch.mean(torch.abs(audio_origin[0,:] - ans[0,:])))"
   ]
  },
  {
   "cell_type": "code",
   "execution_count": 22,
   "id": "85fdd042-609f-473d-b013-197eda884c8b",
   "metadata": {
    "tags": []
   },
   "outputs": [
    {
     "name": "stdout",
     "output_type": "stream",
     "text": [
      "tensor([-0.0663, -0.0522, -0.0448, -0.0367, -0.0226, -0.0133, -0.0003,  0.0126,\n",
      "         0.0262,  0.0389,  0.0431,  0.0500], dtype=torch.float64)\n",
      "L sum 0.0584165073426763\n",
      "magnitude sum tensor(1.2228, dtype=torch.float64)\n",
      "[[-0.06625904 -0.05217025 -0.04480392 -0.03666257 -0.02256725 -0.01326675\n",
      "  -0.00030922  0.01262541  0.0261763   0.03892441  0.04308636  0.04995391]]\n",
      "[[ 0.01130831  0.00639663  0.00739692]\n",
      " [ 0.00772723  0.00237501  0.0043511 ]\n",
      " [ 0.00558015 -0.00077955  0.00176002]\n",
      " [ 0.00425689 -0.00244227 -0.00025812]\n",
      " [ 0.00173839 -0.00155615 -0.00048976]]\n",
      "[[ 0.01130831  0.00639663  0.00739692]\n",
      " [ 0.00772723  0.00237501  0.0043511 ]\n",
      " [ 0.00558015 -0.00077955  0.00176002]\n",
      " [ 0.00425689 -0.00244227 -0.00025812]\n",
      " [ 0.00173839 -0.00155615 -0.00048976]]\n"
     ]
    }
   ],
   "source": [
    "def reconstruct_from_S_with_H_2_block_test(magnitude, stft_fn, hop_length=2):\n",
    "    #input shape: [1, channels, 3]\n",
    "    \n",
    "    channels = magnitude.shape[1]\n",
    "    win_length = (channels-1)*2\n",
    "    L = magnitude_to_L(magnitude, stft_fn.forward_basis[:2*hop_length+1,:,:])\n",
    "    L = L.numpy()\n",
    "    # print('R shape', L.shape)\n",
    "    print('L sum',np.sum(np.abs(L)))\n",
    "    print('magnitude sum', torch.sum(torch.abs(magnitude)))\n",
    "    minimum_error = 1e10\n",
    "    minimum_ans = np.zeros((1, win_length+2*hop_length)).astype(np.float64)\n",
    "\n",
    "    for i in range(2**6):\n",
    "        sgn10 = (i%(2**1))//(2**0)\n",
    "        # sgn10 = 1 \n",
    "        T10 = (sgn10 * 2 - 1) * np.sqrt(L[0,0] + 2*L[1,0] + 2*L[2,0] + 2*L[3,0] + 2*L[4,0])\n",
    "        sgn20 = (i%(2**2))//(2**1)\n",
    "        # sgn20 = 0\n",
    "        T20 = (sgn20 * 2 - 1) * np.sqrt(L[0,0] - 2*L[1,0] + 2*L[2,0] - 2*L[3,0] + 2*L[4,0])\n",
    "        S10 = (T10+T20)/2\n",
    "        S20 = (T10-T20)/2\n",
    "    \n",
    "        sgn11 = (i%(2**3))//(2**2)\n",
    "        # sgn11 = 1 \n",
    "        T11 = (sgn11 * 2 - 1) * np.sqrt(L[0,1] + 2*L[1,1] + 2*L[2,1] + 2*L[3,1] + 2*L[4,1])\n",
    "        sgn21 = (i%(2**4))//(2**3)\n",
    "        # sgn21 = 0\n",
    "        T21 = (sgn21 * 2 - 1) * np.sqrt(L[0,1] - 2*L[1,1] + 2*L[2,1] - 2*L[3,1] + 2*L[4,1])\n",
    "        S11 = (T11+T21)/2\n",
    "        S21 = (T11-T21)/2\n",
    "    \n",
    "        sgn12 = (i%(2**5))//(2**4)\n",
    "        # sgn12 = 1 \n",
    "        T12 = (sgn12 * 2 - 1) * np.sqrt(L[0,2] + 2*L[1,2] + 2*L[2,2] + 2*L[3,2] + 2*L[4,2])\n",
    "        sgn22 = (i%(2**6))//(2**5)\n",
    "        # sgn22 = 0\n",
    "        T22 = (sgn22 * 2 - 1) * np.sqrt(L[0,2] - 2*L[1,2] + 2*L[2,2] - 2*L[3,2] + 2*L[4,2])\n",
    "        S12 = (T12+T22)/2\n",
    "        S22 = (T12-T22)/2\n",
    "    \n",
    "        x8_0 = S11 - S10\n",
    "        x9_1 = S21 - S20\n",
    "        x10_2 = S12 - S11\n",
    "        x11_3 = S22 - S21\n",
    "    \n",
    "        A_matrix = np.zeros((10,8), dtype=np.double)\n",
    "        b = np.zeros((10,1), dtype=np.double)\n",
    "    \n",
    "    \n",
    "        ### equations for 0-4\n",
    "        A_matrix[0,0] = 2*x8_0\n",
    "        A_matrix[0,1] = 2*x9_1\n",
    "        b[0,0] = L[0,1] - L[0,0] - x8_0**2 - x9_1**2\n",
    "    \n",
    "    \n",
    "        A_matrix[1,1], A_matrix[1,7] = x8_0, x8_0\n",
    "        A_matrix[1,0], A_matrix[1,2] = x9_1, x9_1\n",
    "        b[1,0] = L[1,1] - L[1,0]-x9_1*x8_0\n",
    "    \n",
    "        A_matrix[2,2], A_matrix[2,6] = x8_0, x8_0\n",
    "        A_matrix[2,3], A_matrix[2,7] = x9_1, x9_1\n",
    "        b[2,0] = L[2,1] - L[2,0]\n",
    "    \n",
    "        A_matrix[3,3], A_matrix[3,5] = x8_0, x8_0\n",
    "        A_matrix[3,4], A_matrix[3,6] = x9_1, x9_1\n",
    "        b[3,0] = L[3,1] - L[3,0]\n",
    "    \n",
    "        A_matrix[4,4]= x8_0\n",
    "        A_matrix[4,5]= x9_1\n",
    "        b[4,0] = L[4,1] - L[4,0]\n",
    "    \n",
    "        ### equations for 5-9\n",
    "        A_matrix[5,2] = 2*x10_2\n",
    "        A_matrix[5,3] = 2*x11_3\n",
    "        b[5,0] = L[0,2] - L[0,1] - x10_2**2 - x11_3**2\n",
    "    \n",
    "    \n",
    "        A_matrix[6,1], A_matrix[6,3] = x10_2, x10_2\n",
    "        A_matrix[6,2], A_matrix[6,4] = x11_3, x11_3\n",
    "        b[6,0] = L[1,2] - L[1,1] - x10_2*x9_1 - x11_3*x10_2\n",
    "    \n",
    "        A_matrix[7,0], A_matrix[7,4] = x10_2, x10_2\n",
    "        A_matrix[7,1], A_matrix[7,5] = x11_3, x11_3\n",
    "        b[7,0] = L[2,2] - L[2,1] - x10_2*x8_0 - x11_3*x9_1\n",
    "    \n",
    "        A_matrix[8,7], A_matrix[8,5] = x10_2, x10_2\n",
    "        A_matrix[8,0], A_matrix[8,6] = x11_3, x11_3\n",
    "        b[8,0] = L[3,2] - L[3,1] - x11_3*x8_0\n",
    "    \n",
    "        A_matrix[9,6]= x10_2\n",
    "        A_matrix[9,7]= x11_3\n",
    "        b[9,0] = L[4,2] - L[4,1]\n",
    "    \n",
    "       \n",
    "        Q,R = np.linalg.qr(A_matrix) # qr decomposition of A\n",
    "        Qb = np.dot(Q.T,b) # computing Q^T*b (project b onto the range of A)\n",
    "        ans = np.linalg.solve(R,Qb) # solving R*x = Q^T*b\n",
    "        \n",
    "#         temp = A_matrix.T @ A_matrix\n",
    "#         ans = (np.linalg.inv(temp)) @ (A_matrix.T @ b)\n",
    "        \n",
    "#         if np.linalg.matrix_rank(temp)<win_length:\n",
    "#             print('not full rank, may be error')\n",
    "        \n",
    "#         b_hat = A_matrix @ ans\n",
    "    \n",
    "        test_L   = np.zeros((channels, 3)).astype(np.float64)\n",
    "        ans_full = np.zeros((1, win_length + 2*hop_length)).astype(np.float64)\n",
    "        ans_full[0, :win_length] = ans[:win_length, 0]\n",
    "        ans_full[0, win_length]   = ans[0,0]+x8_0\n",
    "        ans_full[0, win_length+1] = ans[1,0]+x9_1\n",
    "        ans_full[0, win_length+2] = ans[2,0]+x10_2\n",
    "        ans_full[0, win_length+3] = ans[3,0]+x11_3\n",
    "        \n",
    "        for tt in range(3):\n",
    "            for i in range(2*hop_length+1):\n",
    "                test_L[i,tt] = np.sum(ans_full[0, tt*hop_length:tt*hop_length+win_length] * \\\n",
    "                                       np.roll(ans_full[0, tt*hop_length:tt*hop_length+win_length],i)\n",
    "                                      )\n",
    "        test_L[-1, :] = test_L[-1, :]/2\n",
    "        # print('######')\n",
    "        # print(np.sum(np.abs(test_L - L)))\n",
    "        # print('test_L', test_L)\n",
    "        # print('L',L)\n",
    "        # print(minimum_ans)\n",
    "        \n",
    "        if np.sum(np.abs(test_L - L))<minimum_error:\n",
    "            minimum_error = np.sum(np.abs(test_L - L))\n",
    "            minimum_ans[0,:] = ans_full[0,:]\n",
    "    return minimum_ans, minimum_error\n",
    "\n",
    "\n",
    "print(audio_origin[0,:12])\n",
    "ans_test,ans_error = reconstruct_from_S_with_H_2_block_test(magnitude[:,:,:3], stft_fn, hop_length=2)\n",
    "print(ans_test)\n",
    "\n",
    "L = magnitude_to_L(magnitude[:,:,:3], stft_fn.forward_basis[:2*hop_length+1,:,:])\n",
    "L = L.numpy()\n",
    "\n",
    "test_L   = np.zeros((channels, 3)).astype(np.float64)\n",
    "        \n",
    "for tt in range(3):\n",
    "    for i in range(2*hop_length+1):\n",
    "        test_L[i,tt] = np.sum(ans_test[0, tt*hop_length:tt*hop_length+win_length] * \\\n",
    "                                       np.roll(ans_test[0, tt*hop_length:tt*hop_length+win_length],i)\n",
    "                                      )\n",
    "test_L[-1, :] = test_L[-1, :]/2\n",
    "print(L)\n",
    "print(test_L)"
   ]
  },
  {
   "cell_type": "code",
   "execution_count": null,
   "id": "86aa5b98-8339-494a-897e-834315d5c577",
   "metadata": {},
   "outputs": [],
   "source": []
  }
 ],
 "metadata": {
  "kernelspec": {
   "display_name": "Python 3 (ipykernel)",
   "language": "python",
   "name": "python3"
  },
  "language_info": {
   "codemirror_mode": {
    "name": "ipython",
    "version": 3
   },
   "file_extension": ".py",
   "mimetype": "text/x-python",
   "name": "python",
   "nbconvert_exporter": "python",
   "pygments_lexer": "ipython3",
   "version": "3.7.3"
  }
 },
 "nbformat": 4,
 "nbformat_minor": 5
}
