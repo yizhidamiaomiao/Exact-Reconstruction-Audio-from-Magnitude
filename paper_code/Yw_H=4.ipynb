{
 "cells": [
  {
   "cell_type": "code",
   "execution_count": 1,
   "id": "53d52bdd-2b85-4cae-9852-55d019df87a7",
   "metadata": {
    "tags": []
   },
   "outputs": [
    {
     "name": "stdout",
     "output_type": "stream",
     "text": [
      "Random seed set as 114514\n"
     ]
    }
   ],
   "source": [
    "import IPython.display as ipd\n",
    "\n",
    "import numpy as np\n",
    "import torch\n",
    "\n",
    "from audio_processing import griffin_lim\n",
    "\n",
    "from scipy.io.wavfile import read\n",
    "import time\n",
    "from reconstruct_functions import *\n",
    "import random\n",
    "import os\n",
    "\n",
    "def set_seed(seed: int = 42) -> None:\n",
    "    np.random.seed(seed)\n",
    "    random.seed(seed)\n",
    "    torch.manual_seed(seed)\n",
    "    torch.cuda.manual_seed(seed)\n",
    "    torch.backends.cudnn.deterministic = True\n",
    "    torch.backends.cudnn.benchmark = False\n",
    "    os.environ[\"PYTHONHASHSEED\"] = str(seed)\n",
    "    print(f\"Random seed set as {seed}\")\n",
    "\n",
    "set_seed(114514)"
   ]
  },
  {
   "cell_type": "code",
   "execution_count": 2,
   "id": "d01ad0e6-c39f-4eff-abe0-bb7e14983e97",
   "metadata": {
    "tags": []
   },
   "outputs": [],
   "source": [
    "hop_length = 4\n",
    "win_length = 16 ###at least 4*hop_length, even number\n",
    "full_length = win_length + 4*hop_length\n",
    "\n",
    "def get_Yw(input_signal, window, hop_length =1, win_length=4):\n",
    "    # input shape: [1,T]\n",
    "    # output shape: [(T+N-1)/H, T/2+1]\n",
    "    T = input_signal.shape[-1]\n",
    "    H = hop_length\n",
    "    N = win_length\n",
    "    Yw_real = torch.zeros(((T+N-1)//H, T//2+1), dtype=torch.float64)\n",
    "    Yw_imag = torch.zeros(((T+N-1)//H, T//2+1), dtype=torch.float64)\n",
    "    # pi = torch.acos(torch.zeros(1, dtype=torch.float64)).item() * 2\n",
    "    for m in range((T+N-1)//H):\n",
    "        for n in range(T//2+1):\n",
    "            for t in range(T):\n",
    "                if m*H-t<0 or m*H-t>=N:\n",
    "                    continue\n",
    "                Yw_real[m,n] = Yw_real[m,n]+ input_signal[0,t]*window[m*H-t]*np.cos(-2*np.pi*n*t/T)\n",
    "                Yw_imag[m,n] = Yw_imag[m,n]+ input_signal[0,t]*window[m*H-t]*np.sin(-2*np.pi*n*t/T)\n",
    "    return torch.sqrt(Yw_real**2 + Yw_imag**2)"
   ]
  },
  {
   "cell_type": "code",
   "execution_count": 3,
   "id": "b6b31542-c66e-496f-b85e-6be6f194bb72",
   "metadata": {
    "tags": []
   },
   "outputs": [],
   "source": [
    "\n",
    "\n",
    "def compute_reconstruction(input_signal, window):\n",
    "    # shape: [1,:]\n",
    "    magnitude  = get_Yw(input_signal, window, hop_length, win_length)\n",
    "    \n",
    "    ans = reconstruct_from_Yw_with_H_4(magnitude, window, hop_length)\n",
    "    \n",
    "    if ans[0,0]*input_signal[0,0]<0:\n",
    "        ans[:,:] = -ans[:,:]\n",
    "    print('ans', ans)\n",
    "    \n",
    "    return ans\n"
   ]
  },
  {
   "cell_type": "code",
   "execution_count": 4,
   "id": "8ccfdaf8-cd92-4c2b-8cec-fc9a5e74aba7",
   "metadata": {},
   "outputs": [
    {
     "name": "stdout",
     "output_type": "stream",
     "text": [
      "###### 0\n",
      "signal tensor([[ 0.0481,  0.6044,  0.4005,  0.3006,  0.1836, -0.8655,  0.7392, -0.5941,\n",
      "          0.0399,  0.1515,  0.5950, -0.8755, -0.2879, -0.1142,  0.7590,  0.0166,\n",
      "         -0.5702, -0.4450, -0.0190, -0.6339,  0.7961,  0.1058, -0.3611, -0.4709,\n",
      "         -0.2687, -0.1315, -0.4979,  0.7037, -0.3971, -0.1072, -0.9203, -0.4680]],\n",
      "       dtype=torch.float64)\n",
      "window tensor([0.3985, 0.4288, 0.2968, 0.2912, 0.6184, 0.2165, 0.6063, 0.7010, 0.2264,\n",
      "        0.6962, 0.4151, 0.8090, 0.0754, 0.5051, 0.9403, 0.2933],\n",
      "       dtype=torch.float64)\n",
      "solutions [0.35373115 0.17596547 0.08309123]\n"
     ]
    },
    {
     "name": "stderr",
     "output_type": "stream",
     "text": [
      "100%|██████████| 6/6 [00:00<00:00, 1304.47it/s]\n"
     ]
    },
    {
     "name": "stdout",
     "output_type": "stream",
     "text": [
      "ans [[ 0.04805358  0.60435092  0.40050719  0.300559    0.18361471 -0.86551264\n",
      "   0.73915877 -0.59405125  0.03991664  0.15152053  0.59503475 -0.87545772\n",
      "  -0.28792413 -0.11418192  0.7589735   0.01663292 -0.5702101  -0.44499301\n",
      "  -0.01900145 -0.63386279  0.79608359  0.10575303 -0.36105869 -0.47088567\n",
      "  -0.26865222 -0.13154937 -0.4978787   0.7037439  -0.39705772 -0.1071553\n",
      "  -0.92030933 -0.46798494]]\n",
      "tensor(1.0637e-11, dtype=torch.float64)\n",
      "###### 1\n",
      "signal tensor([[ 0.2323,  0.1480,  0.6167, -0.4830, -0.0279,  0.9758, -0.3849,  0.1666,\n",
      "         -0.9009, -0.5043,  0.4210,  0.4831, -0.1558, -0.7055, -0.5264, -0.1842,\n",
      "          0.1742, -0.7626,  0.1707,  0.2971,  0.2528,  0.4621, -0.0382,  0.6119,\n",
      "          0.8691,  0.1859,  0.8171, -0.6323, -0.4716, -0.9533, -0.4446, -0.5064]],\n",
      "       dtype=torch.float64)\n",
      "window tensor([0.7726, 0.1040, 0.1687, 0.3434, 0.1976, 0.0815, 0.7567, 0.2475, 0.5623,\n",
      "        0.7351, 0.7363, 0.3513, 0.7720, 0.1842, 0.5002, 0.8010],\n",
      "       dtype=torch.float64)\n",
      "solutions [ 0.16482849  0.05082698 -0.00759227]\n"
     ]
    },
    {
     "name": "stderr",
     "output_type": "stream",
     "text": [
      "100%|██████████| 6/6 [00:00<00:00, 1328.85it/s]"
     ]
    },
    {
     "name": "stdout",
     "output_type": "stream",
     "text": [
      "ans [[ 0.23225625  0.14802665  0.61666715 -0.4829868  -0.02792985  0.97577104\n",
      "  -0.38487804  0.16657397 -0.90094731 -0.50433919  0.42097012  0.48313482\n",
      "  -0.15583536 -0.70549755 -0.52643042 -0.18417989  0.17421621 -0.7625536\n",
      "   0.17065796  0.2971199   0.25277608  0.46205909 -0.03818923  0.61186638\n",
      "   0.86908708  0.18585854  0.81710325 -0.63225933 -0.47155419 -0.95325027\n",
      "  -0.44459225 -0.50644099]]\n",
      "tensor(1.6389e-11, dtype=torch.float64)\n",
      "###### 2\n",
      "signal tensor([[ 0.3307,  0.0851, -0.6886,  0.5982,  0.5215, -0.6493, -0.5949, -0.1975,\n",
      "         -0.4121,  0.3747, -0.1560,  0.4211,  0.3695, -0.8292,  0.9244, -0.1416,\n",
      "         -0.1708, -0.1730,  0.8796,  0.3604, -0.5419,  0.3376,  0.9650, -0.9202,\n",
      "         -0.2147, -0.5329, -0.3018, -0.4644, -0.0391, -0.4169,  0.6877, -0.3169]],\n",
      "       dtype=torch.float64)\n",
      "window tensor([0.7129, 0.5997, 0.7102, 0.6913, 0.8777, 0.4153, 0.4426, 0.4991, 0.1047,\n",
      "        0.0734, 0.8764, 0.4606, 0.7445, 0.1401, 0.4872, 0.4990],\n",
      "       dtype=torch.float64)\n"
     ]
    },
    {
     "name": "stderr",
     "output_type": "stream",
     "text": [
      "\n"
     ]
    },
    {
     "name": "stdout",
     "output_type": "stream",
     "text": [
      "solutions [1.47134678 0.35523834 0.05885804]\n"
     ]
    },
    {
     "name": "stderr",
     "output_type": "stream",
     "text": [
      "100%|██████████| 6/6 [00:00<00:00, 1349.23it/s]\n"
     ]
    },
    {
     "name": "stdout",
     "output_type": "stream",
     "text": [
      "ans [[ 0.33074495  0.0851445  -0.68859681  0.59823783  0.52154045 -0.64927282\n",
      "  -0.59488788 -0.19748764 -0.41210933  0.37465445 -0.15598469  0.42107842\n",
      "   0.36949566 -0.82918551  0.92439093 -0.1416182  -0.17083722 -0.17300594\n",
      "   0.87961974  0.36036377 -0.54189285  0.33755741  0.96501251 -0.92021382\n",
      "  -0.21467471 -0.53289109 -0.30176181 -0.46444415 -0.0391089  -0.4168767\n",
      "   0.6876735  -0.31685244]]\n",
      "tensor(8.6924e-14, dtype=torch.float64)\n",
      "###### 3\n",
      "signal tensor([[-0.1677, -0.7570,  0.2763, -0.4136, -0.9374,  0.4671, -0.4160,  0.1631,\n",
      "          0.0493, -0.7231, -0.3512,  0.1391,  0.0035,  0.5673,  0.3027,  0.3263,\n",
      "          0.6122,  0.8561,  0.5883,  0.1585, -0.4953, -0.2611,  0.0256,  0.8444,\n",
      "          0.5286,  0.3846, -0.5044,  0.6252, -0.1874,  0.6542, -0.9586, -0.7692]],\n",
      "       dtype=torch.float64)\n",
      "window tensor([0.5783, 0.2318, 0.0118, 0.4411, 0.8580, 0.4274, 0.4554, 0.1032, 0.5633,\n",
      "        0.4361, 0.6102, 0.7283, 0.3875, 0.3943, 0.4718, 0.4039],\n",
      "       dtype=torch.float64)\n",
      "solutions [0.25733023+0.26552814j 0.25733023-0.26552814j 0.33394434+0.j        ]\n"
     ]
    },
    {
     "name": "stderr",
     "output_type": "stream",
     "text": [
      "100%|██████████| 6/6 [00:00<00:00, 1364.08it/s]\n"
     ]
    },
    {
     "name": "stdout",
     "output_type": "stream",
     "text": [
      "ans [[-0.16767564 -0.7570356   0.27625407 -0.413572   -0.9374164   0.4670854\n",
      "  -0.41600202  0.16314604  0.04926667 -0.72314992 -0.35116966  0.13906474\n",
      "   0.00353267  0.5673161   0.3027352   0.32629265  0.61219725  0.85610014\n",
      "   0.58832306  0.15851556 -0.49532775 -0.26108596  0.0256317   0.84440822\n",
      "   0.52862697  0.38458766 -0.50450909  0.62524662 -0.1874114   0.65414049\n",
      "  -0.9582668  -0.76911944]]\n",
      "tensor(1.5204e-05, dtype=torch.float64)\n",
      "###### 4\n",
      "signal tensor([[-0.0043,  0.6346,  0.7073, -0.9660,  0.0171,  0.3421,  0.1836,  0.3658,\n",
      "         -0.3397,  0.0538,  0.5210,  0.6106, -0.6203, -0.2729, -0.1503,  0.3346,\n",
      "          0.9652, -0.2245, -0.2097, -0.4393,  0.6255,  0.7256,  0.8333,  0.0933,\n",
      "         -0.7047, -0.1916, -0.0537, -0.3560,  0.4116,  0.7621,  0.0089,  0.8748]],\n",
      "       dtype=torch.float64)\n",
      "window tensor([0.4215, 0.4269, 0.6516, 0.4784, 0.8769, 0.0634, 0.3327, 0.0479, 0.1534,\n",
      "        0.9541, 0.8723, 0.8969, 0.2035, 0.9535, 0.4062, 0.3093],\n",
      "       dtype=torch.float64)\n",
      "solutions [-0.34742579 -0.30362725 -0.21012501]\n"
     ]
    },
    {
     "name": "stderr",
     "output_type": "stream",
     "text": [
      "100%|██████████| 6/6 [00:00<00:00, 1364.96it/s]"
     ]
    },
    {
     "name": "stdout",
     "output_type": "stream",
     "text": [
      "ans [[-0.00431623  0.6346376   0.70733918 -0.96595425  0.01710323  0.34211519\n",
      "   0.18357696  0.36580411 -0.33973766  0.05380399  0.52097951  0.61058941\n",
      "  -0.62027262 -0.27293019 -0.15032804  0.33464946  0.96522553 -0.22448519\n",
      "  -0.20970326 -0.43934176  0.62554235  0.72555783  0.83329289  0.0933153\n",
      "  -0.70469592 -0.19156814 -0.05371406 -0.35604546  0.41163348  0.76210314\n",
      "   0.00890602  0.87478468]]\n",
      "tensor(8.4506e-07, dtype=torch.float64)\n",
      "3.2097469814675906e-06\n",
      "3.6070558777653493e-11\n"
     ]
    },
    {
     "name": "stderr",
     "output_type": "stream",
     "text": [
      "\n"
     ]
    }
   ],
   "source": [
    "test_time = 5\n",
    "data_arr = []\n",
    "\n",
    "for idx in range(test_time):\n",
    "    print('######', idx)\n",
    "    audio_origin = torch.rand((1,full_length), dtype=torch.float64)*2-1\n",
    "    \n",
    "    window = torch.rand((win_length), dtype=torch.float64)\n",
    "    print('signal', audio_origin)\n",
    "    print('window', window)\n",
    "    ans = compute_reconstruction(audio_origin, window)\n",
    "        \n",
    "    data_arr.append(torch.mean(torch.abs(audio_origin[0,:] - ans[0,:])))\n",
    "    print(torch.mean(torch.abs(audio_origin[0,:] - ans[0,:])))\n",
    "\n",
    "print(np.mean(data_arr))\n",
    "print(np.var(data_arr))"
   ]
  },
  {
   "cell_type": "code",
   "execution_count": null,
   "id": "1672e9cf-90cc-4abf-91ad-1c2f3babcd59",
   "metadata": {},
   "outputs": [],
   "source": []
  }
 ],
 "metadata": {
  "kernelspec": {
   "display_name": "Python 3 (ipykernel)",
   "language": "python",
   "name": "python3"
  },
  "language_info": {
   "codemirror_mode": {
    "name": "ipython",
    "version": 3
   },
   "file_extension": ".py",
   "mimetype": "text/x-python",
   "name": "python",
   "nbconvert_exporter": "python",
   "pygments_lexer": "ipython3",
   "version": "3.7.3"
  }
 },
 "nbformat": 4,
 "nbformat_minor": 5
}
