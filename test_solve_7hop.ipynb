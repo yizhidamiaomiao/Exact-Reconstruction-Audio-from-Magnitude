{
 "cells": [
  {
   "cell_type": "code",
   "execution_count": 1,
   "id": "53d52bdd-2b85-4cae-9852-55d019df87a7",
   "metadata": {
    "tags": []
   },
   "outputs": [],
   "source": [
    "import IPython.display as ipd\n",
    "\n",
    "import numpy as np\n",
    "import torch\n",
    "\n",
    "\n",
    "# import stft_64_pad_0 as stft\n",
    "import stft_64 as stft\n",
    "from audio_processing import griffin_lim\n",
    "\n",
    "from scipy.io.wavfile import read\n",
    "import time\n",
    "from solver_test import *"
   ]
  },
  {
   "cell_type": "code",
   "execution_count": 2,
   "id": "d01ad0e6-c39f-4eff-abe0-bb7e14983e97",
   "metadata": {
    "tags": []
   },
   "outputs": [
    {
     "name": "stdout",
     "output_type": "stream",
     "text": [
      "torch.Size([1, 28])\n",
      "tensor([0.0598, 0.6319, 0.2921, 0.7176, 0.9370, 0.0388, 0.5276, 0.4439, 0.0714,\n",
      "        0.8513], dtype=torch.float64)\n"
     ]
    }
   ],
   "source": [
    "hop_length = 4\n",
    "win_length = 4*hop_length\n",
    "channels = hop_length*2+1\n",
    "wav_length = hop_length*7\n",
    "\n",
    "audio_origin = torch.rand((1,wav_length), dtype=torch.float64)\n",
    "print(audio_origin.shape)\n",
    "print(audio_origin[0,:10])"
   ]
  },
  {
   "cell_type": "code",
   "execution_count": 3,
   "id": "596b5653-6b90-4e57-9226-0bcac9dcd36a",
   "metadata": {
    "tags": []
   },
   "outputs": [],
   "source": [
    "# stft_fn = stft.STFT(filter_length=4, hop_length=1, win_length=4,\n",
    "#                     window='hann')\n",
    "\n",
    "stft_fn = stft.STFT(filter_length=win_length, hop_length=hop_length, win_length=win_length,\n",
    "                    window=None)\n",
    "\n",
    "\n",
    "def compare(a,b):\n",
    "    return torch.mean(torch.abs(a-b)), torch.mean((a-b)*(a-b))\n",
    "\n",
    "def compare_L1(ori,gen):\n",
    "    return torch.mean(torch.abs(ori-gen)/torch.abs(ori))\n",
    "\n",
    "\n",
    "def compare_L2(a,b):\n",
    "    return torch.sum(torch.abs(a-b)), torch.sum((a-b)*(a-b))"
   ]
  },
  {
   "cell_type": "code",
   "execution_count": 4,
   "id": "b6b31542-c66e-496f-b85e-6be6f194bb72",
   "metadata": {
    "tags": []
   },
   "outputs": [
    {
     "name": "stdout",
     "output_type": "stream",
     "text": [
      "torch.Size([18, 1, 16])\n",
      "torch.Size([9])\n",
      "tensor([7.7303, 0.3088, 1.3460, 0.5514, 0.2974, 1.5522, 2.3430, 1.2050, 0.8025],\n",
      "       dtype=torch.float64)\n",
      "torch.Size([1, 9, 4])\n"
     ]
    }
   ],
   "source": [
    "magnitude, phase_origin = stft_fn.transform(audio_origin)\n",
    "\n",
    "forward_basis = stft_fn.forward_basis\n",
    "print(forward_basis.shape)\n",
    "start_frame = 0\n",
    "M_Rc = torch.sum(forward_basis[:channels,0,:] * audio_origin[:,start_frame: start_frame+win_length], dim =1)\n",
    "M_Ic = torch.sum(forward_basis[channels:,0,:] * audio_origin[:,start_frame: start_frame+win_length], dim =1)\n",
    "M_c_square = torch.sqrt(M_Rc**2+M_Ic**2)\n",
    "print(M_c_square.shape)\n",
    "magnitude    = magnitude[:,:,2:6]\n",
    "phase_origin = phase_origin[:,:,2:6]\n",
    "print(magnitude[0,:,start_frame])\n",
    "print(magnitude.shape)\n"
   ]
  },
  {
   "cell_type": "code",
   "execution_count": 5,
   "id": "921cd0fb-65ee-4fa7-8b3d-f361cb14d942",
   "metadata": {
    "tags": []
   },
   "outputs": [
    {
     "name": "stdout",
     "output_type": "stream",
     "text": [
      "torch.Size([9, 4])\n",
      "tensor([5.2315, 3.1121, 3.6610, 4.1980, 2.8735, 3.8415, 3.8671, 3.6269, 4.1663],\n",
      "       dtype=torch.float64)\n",
      "tensor(5.2315, dtype=torch.float64)\n",
      "tensor(3.1121, dtype=torch.float64)\n",
      "tensor(3.6610, dtype=torch.float64)\n",
      "tensor(4.1980, dtype=torch.float64)\n",
      "tensor(2.8735, dtype=torch.float64)\n",
      "tensor(3.8415, dtype=torch.float64)\n",
      "tensor(3.8671, dtype=torch.float64)\n",
      "tensor(3.6269, dtype=torch.float64)\n",
      "tensor(4.1663, dtype=torch.float64)\n"
     ]
    }
   ],
   "source": [
    "L = magnitude_to_L(magnitude, stft_fn.forward_basis[:2*hop_length+1,:,:])\n",
    "print(L.shape)\n",
    "print(L[:,0])\n",
    "# print(audio_origin[0,:4*hop_length])\n",
    "# print(stft_fn.forward_basis[:2*hop_length+1,:,:2*hop_length+1])\n",
    "for i in range(2*hop_length+1):\n",
    "    print(torch.sum(audio_origin[0,:4*hop_length] * torch.roll(audio_origin[0,:4*hop_length],i)))"
   ]
  },
  {
   "cell_type": "code",
   "execution_count": 48,
   "id": "380d6ddf-b8dc-4cba-881e-deee9232e471",
   "metadata": {
    "tags": []
   },
   "outputs": [],
   "source": [
    "class hop_7_L_solver():\n",
    "    #L shape: [channels=2H+1, 4]\n",
    "    #[channels, 0] for [1, hop_length*0: hop_length*4]\n",
    "    #[channels, 1] for [1, hop_length*1: hop_length*5]\n",
    "    #[channels, 2] for [1, hop_length*2: hop_length*6]\n",
    "    #[channels, 3] for [1, hop_length*3: hop_length*7]\n",
    "    #x: [1, hop_length*7]\n",
    "    \n",
    "    def __init__(self, hop_length, channels, win_length):\n",
    "        self.hop_length = hop_length\n",
    "        self.channels = channels\n",
    "        self.win_length = win_length\n",
    "        \n",
    "    def test(self, p, L):\n",
    "        targets = []\n",
    "        \n",
    "        # print(M_c_square.shape)\n",
    "        for hop_iter in range(4):\n",
    "            start_frame = hop_iter * self.hop_length\n",
    "            for c in range(self.channels):\n",
    "                L_ci = torch.sum(p[0, start_frame: start_frame + self.win_length] * \\\n",
    "                                 torch.roll(p[0, start_frame: start_frame + self.win_length], c)\n",
    "                                ) - L[c,hop_iter]\n",
    "                targets.append(L_ci)\n",
    "        return torch.stack(targets)\n",
    "    \n",
    "    def func(self, p):\n",
    "        targets = []\n",
    "        \n",
    "        # print(M_c_square.shape)\n",
    "        for hop_iter in range(4):\n",
    "            start_frame = hop_iter * self.hop_length\n",
    "            for c in range(self.channels):\n",
    "                L_ci = torch.sum(p[0, start_frame: start_frame + self.win_length] * \\\n",
    "                                 torch.roll(p[0, start_frame: start_frame + self.win_length], c)\n",
    "                                ) - self.L[c,hop_iter]\n",
    "                targets.append(L_ci)\n",
    "        return torch.stack(targets)\n",
    "    \n",
    "    def solve(self, L, initial_guess, n_iters=50, lambda_JTJ=1):\n",
    "        #magnitude shape:      [1, hop_length*2+1, 4]\n",
    "        #initial_guess shape:  [1, 7*hop_length]\n",
    "        \n",
    "        self.L =L\n",
    "        start_time = time.time()\n",
    "        for i in range(n_iters):\n",
    "            print('\\rIter %d/%d: Used times: %.2f' %(i,n_iters,time.time()-start_time), end=\"\")\n",
    "            # check(recon)\n",
    "            #print('#')\n",
    "            x = torch.tensor(initial_guess.detach().numpy(), dtype=torch.float64, requires_grad = True) \n",
    "            # x = torch.from_numpy(np.zeros(initial_guess.shape))\n",
    "            # x[:,:] = initial_guess[:,:]\n",
    "            # x = torch.DoubleTensor(x)\n",
    "            \n",
    "            J = torch.autograd.functional.jacobian(self.func, x)\n",
    "            # print('J shape', J.shape)\n",
    "           \n",
    "            J = J.squeeze(1)\n",
    "            # print('')\n",
    "            # print('J',J)\n",
    "            target = self.func(x).detach().numpy()\n",
    "            \n",
    "            # Q, R = np.linalg.qr(J, mode='reduced')\n",
    "            # Qb = np.matmul(Q.T, target)\n",
    "            # minus = np.linalg.solve(R,Qb)\n",
    "            # print(J, target)\n",
    "            \n",
    "            temp = J.T @ J\n",
    "            # minus = (torch.inverse(temp + lambda_JTJ * torch.diag(torch.diag(temp, 0))))@ (J.T @ target)\n",
    "            minus = (torch.inverse(temp))@ (J.T @ target)\n",
    "            # print('res', minus.T)\n",
    "            # print('check', torch.matmul(J, minus)-target)\n",
    "            # print('error', target)\n",
    "            minus = minus.numpy()\n",
    "            # print(J.shape)\n",
    "            # print(x.shape)\n",
    "            # print(self.func(x).shape)\n",
    "            # minus = overdetermined_linear_system_solver(J.numpy(), self.func(x).numpy())\n",
    "            # minus = torch.from_numpy(minus)\n",
    "        \n",
    "            initial_guess = initial_guess - minus.T\n",
    "            # if torch.sum(torch.abs(norm_vector/1000-magnitude[0,:]))<1e-10:\n",
    "            #     break\n",
    "            \n",
    "        return initial_guess"
   ]
  },
  {
   "cell_type": "code",
   "execution_count": 53,
   "id": "f421cff3-6f88-44a5-b2e1-b1e6128c3a3d",
   "metadata": {},
   "outputs": [
    {
     "name": "stdout",
     "output_type": "stream",
     "text": [
      "Iter 19/20: Used times: 1.05\n",
      "\n",
      "ans    tensor([ 0.1703,  0.6513,  0.7265,  0.3488,  0.2655,  0.1177,  0.4774,  0.8396,\n",
      "         0.3125,  0.6608,  0.1239,  0.7228,  0.2570,  0.0412,  0.2094, -0.0626,\n",
      "         0.7813,  0.6448,  0.9157,  0.7395,  0.1801,  0.2871,  0.5408,  0.3513,\n",
      "         0.2685,  0.6434,  0.6922,  0.7710], dtype=torch.float64)\n",
      "origin tensor([0.1292, 0.2521, 0.5072, 0.7652, 0.6710, 0.0801, 0.1273, 0.5830, 0.4827,\n",
      "        0.8574, 0.1320, 0.5975, 0.0721, 0.1411, 0.4255, 0.0425, 0.5664, 0.3740,\n",
      "        0.9140, 0.9769, 0.3372, 0.2533, 0.2719, 0.2596, 0.4828, 0.8983, 0.7136,\n",
      "        0.5337], dtype=torch.float64)\n",
      "error        tensor([ 0.0213,  0.0155,  0.0128,  0.0023, -0.0285, -0.0499, -0.0090,  0.0189,\n",
      "         0.0098,  0.0027, -0.0438, -0.0270,  0.0131,  0.0142,  0.0221,  0.0359,\n",
      "         0.0038,  0.0033,  0.0098,  0.0446,  0.0080, -0.0013, -0.0114, -0.0037,\n",
      "        -0.0004, -0.0130, -0.0352,  0.0058, -0.0296,  0.0002, -0.0027,  0.0014,\n",
      "        -0.0035,  0.0024,  0.0050,  0.0164], dtype=torch.float64)\n",
      "error origin tensor([ 3.5527e-15, -4.4409e-16, -8.8818e-16, -1.3323e-15,  2.2204e-16,\n",
      "         4.4409e-16,  1.3323e-15, -4.4409e-16,  1.3323e-15,  4.4409e-15,\n",
      "         0.0000e+00, -1.3323e-15, -1.7764e-15,  1.3323e-15,  1.3323e-15,\n",
      "         2.6645e-15, -1.3323e-15,  1.3323e-15,  4.4409e-15, -4.4409e-16,\n",
      "        -1.3323e-15, -1.7764e-15,  1.3323e-15,  8.8818e-16,  2.2204e-15,\n",
      "        -8.8818e-16,  2.2204e-15,  3.5527e-15, -8.8818e-16, -1.3323e-15,\n",
      "        -3.1086e-15,  8.8818e-16,  4.4409e-16,  2.6645e-15, -2.2204e-15,\n",
      "         1.7764e-15], dtype=torch.float64)\n",
      "ans part    3 tensor([ 0.2570,  0.0412,  0.2094, -0.0626], dtype=torch.float64)\n",
      "origin part 3 tensor([0.0721, 0.1411, 0.4255, 0.0425], dtype=torch.float64)\n"
     ]
    }
   ],
   "source": [
    "initial_guess = torch.rand((1, 7*hop_length))\n",
    "\n",
    "newton_method = hop_7_L_solver(hop_length, channels, win_length)\n",
    "ans = newton_method.solve(L[:,:], initial_guess, n_iters=20, lambda_JTJ=0)\n",
    "print('\\n')\n",
    "print('ans   ', ans[0, :])\n",
    "print('origin', audio_origin[0, :])\n",
    "print('error       ', newton_method.func(ans))\n",
    "print('error origin', newton_method.func(audio_origin))\n",
    "print('ans part    3', ans[0,3*hop_length:4*hop_length])\n",
    "print('origin part 3', audio_origin[0, 3*hop_length:4*hop_length])"
   ]
  },
  {
   "cell_type": "code",
   "execution_count": null,
   "id": "a4009b76-b828-4fe5-a1c2-d37a15a7f51b",
   "metadata": {},
   "outputs": [],
   "source": []
  }
 ],
 "metadata": {
  "kernelspec": {
   "display_name": "Python 3 (ipykernel)",
   "language": "python",
   "name": "python3"
  },
  "language_info": {
   "codemirror_mode": {
    "name": "ipython",
    "version": 3
   },
   "file_extension": ".py",
   "mimetype": "text/x-python",
   "name": "python",
   "nbconvert_exporter": "python",
   "pygments_lexer": "ipython3",
   "version": "3.7.3"
  }
 },
 "nbformat": 4,
 "nbformat_minor": 5
}
