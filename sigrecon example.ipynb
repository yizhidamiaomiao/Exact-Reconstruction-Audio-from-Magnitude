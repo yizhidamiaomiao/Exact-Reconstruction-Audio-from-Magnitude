{
 "cells": [
  {
   "cell_type": "markdown",
   "metadata": {},
   "source": [
    "## An Incremental Algorithm for Signal Reconstruction from Short-Time Fourier Transform Magnitude\n",
    "### Usage Example\n",
    "The algorithm is very badly optimized therefore is very slow and useful for scientific purpose only"
   ]
  },
  {
   "cell_type": "code",
   "execution_count": 1,
   "metadata": {
    "collapsed": false,
    "jupyter": {
     "outputs_hidden": false
    },
    "tags": []
   },
   "outputs": [],
   "source": [
    "from sigrecon import *\n",
    "from matplotlib import pylab as plt"
   ]
  },
  {
   "cell_type": "markdown",
   "metadata": {},
   "source": [
    "Working parameters of the algorithm you can play with"
   ]
  },
  {
   "cell_type": "code",
   "execution_count": 35,
   "metadata": {
    "collapsed": false,
    "jupyter": {
     "outputs_hidden": false
    },
    "tags": []
   },
   "outputs": [],
   "source": [
    "n_fft = 32\n",
    "hop_length = 4\n",
    "win_length = 16\n",
    "err_tol = 1e-02"
   ]
  },
  {
   "cell_type": "markdown",
   "metadata": {},
   "source": [
    "Db level is for spectrogram image only, don't impact on the computations"
   ]
  },
  {
   "cell_type": "code",
   "execution_count": 36,
   "metadata": {
    "tags": []
   },
   "outputs": [],
   "source": [
    "min_level_db = -40\n",
    "ref_level_db = 30"
   ]
  },
  {
   "cell_type": "markdown",
   "metadata": {},
   "source": [
    "We set some positivity shift, it's crucial for success"
   ]
  },
  {
   "cell_type": "code",
   "execution_count": 37,
   "metadata": {
    "collapsed": false,
    "jupyter": {
     "outputs_hidden": false
    },
    "tags": []
   },
   "outputs": [
    {
     "name": "stdout",
     "output_type": "stream",
     "text": [
      "(17, 7)\n"
     ]
    }
   ],
   "source": [
    "# sound, sample_rate = load_wav('demo.wav')\n",
    "sound = np.random.rand((10*hop_length))\n",
    "s = sound[:10*hop_length] / 2 - np.min(sound / 16)\n",
    "S = np.abs(stft(s, n_fft=n_fft, hop_length=hop_length, win_length=win_length))\n",
    "print(S.shape)"
   ]
  },
  {
   "cell_type": "markdown",
   "metadata": {},
   "source": [
    "Plotting spectrogram in normalized Db scale"
   ]
  },
  {
   "cell_type": "code",
   "execution_count": 38,
   "metadata": {
    "collapsed": false,
    "jupyter": {
     "outputs_hidden": false
    },
    "tags": []
   },
   "outputs": [
    {
     "data": {
      "text/plain": [
       "<matplotlib.colorbar.Colorbar at 0x7f62e73c3fd0>"
      ]
     },
     "execution_count": 38,
     "metadata": {},
     "output_type": "execute_result"
    },
    {
     "data": {
      "image/png": "[encoded data removed]",
      "text/plain": [
       "<Figure size 1600x500 with 2 Axes>"
      ]
     },
     "metadata": {},
     "output_type": "display_data"
    }
   ],
   "source": [
    "%matplotlib inline\n",
    "S_db = normalize(amp_to_db(S) - ref_level_db, min_level_db)\n",
    "plt.figure(figsize=(16,5))\n",
    "plt.imshow(S_db, aspect='auto', origin='lower', interpolation='none')\n",
    "plt.colorbar()"
   ]
  },
  {
   "cell_type": "markdown",
   "metadata": {},
   "source": [
    "Reconstruct the signal and save it"
   ]
  },
  {
   "cell_type": "code",
   "execution_count": 48,
   "metadata": {
    "collapsed": false,
    "jupyter": {
     "outputs_hidden": false
    },
    "tags": []
   },
   "outputs": [
    {
     "name": "stdout",
     "output_type": "stream",
     "text": [
      "CPU times: user 11.7 ms, sys: 479 µs, total: 12.2 ms\n",
      "Wall time: 11.3 ms\n"
     ]
    }
   ],
   "source": [
    "%%time\n",
    "y = signal_reconstruction(S, n_fft, hop_length, win_length, err_tol)"
   ]
  },
  {
   "cell_type": "code",
   "execution_count": 49,
   "metadata": {
    "tags": []
   },
   "outputs": [],
   "source": [
    "# from scipy.io.wavfile import write\n",
    "# write(\"recon.wav\", sample_rate, y)"
   ]
  },
  {
   "cell_type": "code",
   "execution_count": 50,
   "metadata": {
    "tags": []
   },
   "outputs": [
    {
     "name": "stdout",
     "output_type": "stream",
     "text": [
      "[ 0.00228305 -0.05401223 -0.03622864 -0.03817799  0.05738411 -0.00869879\n",
      " -0.12901434  0.02698232  0.01659726  0.17606495 -0.06313074 -0.06168224\n",
      "  0.2354373  -0.16952912  0.3074082   0.05312303  0.02256136 -0.13203714\n",
      " -0.08315752 -0.10647137  0.09698374 -0.08374835 -0.0425584  -0.0227105\n",
      "  0.05428304 -0.06437521 -0.18792869  0.04472913  0.16800217  0.03577652\n",
      "  0.14997409  0.18707929 -0.11004682 -0.01886337 -0.11347901 -0.066096\n",
      " -0.00258143 -0.00259814  0.0031211  -0.04066463]\n",
      "[0.18746813 0.16915116 0.28093468 0.02397489 0.23200971 0.45825233\n",
      " 0.20743462 0.16646473 0.16668748 0.48811608 0.32650322 0.13061826\n",
      " 0.39280281 0.06782211 0.44613803 0.04882547 0.42101144 0.32413859\n",
      " 0.15852114 0.169218   0.38733713 0.19056855 0.28050188 0.34458993\n",
      " 0.18167325 0.02000388 0.20906472 0.1720402  0.1964954  0.06517188\n",
      " 0.18443908 0.24922533 0.00269971 0.30635109 0.0628393  0.10591183\n",
      " 0.25716375 0.28074757 0.20019973 0.189946  ]\n",
      "0.2190414547802854\n",
      "2.218527508534759\n",
      "0.4669511190595561\n",
      "0.004297562382386502\n"
     ]
    }
   ],
   "source": [
    "print(y)\n",
    "print(s)\n",
    "print(np.mean(np.abs(y[:17000]-s[:17000])))\n",
    "print(np.mean(np.abs(y[:17000]-s[:17000])/np.abs(s[:17000])))\n",
    "print(np.max(np.abs(y[:17000]-s[:17000])))\n",
    "print(np.min(np.abs(y[:17000]-s[:17000])))"
   ]
  },
  {
   "cell_type": "code",
   "execution_count": null,
   "metadata": {},
   "outputs": [],
   "source": []
  }
 ],
 "metadata": {
  "anaconda-cloud": {},
  "kernelspec": {
   "display_name": "Python 3 (ipykernel)",
   "language": "python",
   "name": "python3"
  },
  "language_info": {
   "codemirror_mode": {
    "name": "ipython",
    "version": 3
   },
   "file_extension": ".py",
   "mimetype": "text/x-python",
   "name": "python",
   "nbconvert_exporter": "python",
   "pygments_lexer": "ipython3",
   "version": "3.7.3"
  }
 },
 "nbformat": 4,
 "nbformat_minor": 4
}
