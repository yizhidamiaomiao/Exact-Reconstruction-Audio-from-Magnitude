{
 "cells": [
  {
   "cell_type": "code",
   "execution_count": 2,
   "id": "b44be8d0-2153-4e43-af75-9724eb8edca6",
   "metadata": {
    "tags": []
   },
   "outputs": [],
   "source": [
    "import numpy as np\n",
    "\n",
    "\n"
   ]
  },
  {
   "cell_type": "code",
   "execution_count": 52,
   "id": "5dcaeddf-8ec1-442a-a3ad-2c4a322a4cf7",
   "metadata": {
    "tags": []
   },
   "outputs": [],
   "source": [
    "def overdetermined_linear_system_solver(ori_A, ori_b, threshold = 1e-12):\n",
    "    # solve Ax = b\n",
    "    # A shape:[m,n]\n",
    "    # x shape:[n,1]\n",
    "    # b shape:[m,1]\n",
    "    # output: x, numpy array, shape [n,1]\n",
    "    (m,n) = ori_A.shape\n",
    "    A = np.zeros((m,n), dtype= np.float64)\n",
    "    A[:,:] = ori_A[:,:]\n",
    "    b = np.zeros((m,1), dtype= np.float64)\n",
    "    b[:,:] = ori_b[:,:]\n",
    "    \n",
    "    remaining_row = [i for i in range(m)]\n",
    "    remaining_column = [i for i in range(n)]\n",
    "    idx = 0 \n",
    "    existing_column = []\n",
    "    while(idx<n):\n",
    "        if idx %10==0:\n",
    "            print('\\r%d/%d'%(idx,n), end=\"\")\n",
    "        # print(A)\n",
    "        # print(b)\n",
    "        maxabs_value = 0\n",
    "        maxabs_ij=(0,0)\n",
    "        for i in remaining_row:\n",
    "            for j in remaining_column:\n",
    "                if np.abs(A[i,j])>maxabs_value:\n",
    "                    maxabs_ij = (i,j)\n",
    "                    maxabs_value = np.abs(A[i,j])\n",
    "        if maxabs_value<threshold:\n",
    "            print('Underdeterminant')\n",
    "            return None\n",
    "        \n",
    "        select_row = maxabs_ij[0]\n",
    "        select_column = maxabs_ij[1]\n",
    "        for i in range(m):\n",
    "            if i==select_row:\n",
    "                continue\n",
    "            minus_cof = A[i,select_column]/A[select_row, select_column]\n",
    "            for j in range(n):\n",
    "                A[i,j] = A[i,j] - minus_cof*A[select_row, j]\n",
    "            b[i] = b[i] - minus_cof*b[select_row]\n",
    "        remaining_column.remove(select_column)\n",
    "        remaining_row.remove(select_row)\n",
    "        # print(remaining_column)\n",
    "        existing_column.append((select_row,select_column))\n",
    "        idx+=1\n",
    "    print('\\n')\n",
    "    # print(A)\n",
    "    # print(b)\n",
    "    x = np.zeros((n,1), dtype= np.float64)\n",
    "    idx = n-1\n",
    "    while(idx>=0):\n",
    "        select_row, select_column = existing_column[idx]\n",
    "        x[select_column,0] = b[select_row,0]/A[select_row, select_column]\n",
    "        # for i in range(m):\n",
    "        #     b[i,0] = b[i,0] - A[i, select_column]*x[select_column,0]\n",
    "        #     A[i, select_column] = 0\n",
    "        idx = idx-1\n",
    "        # print('A',A)\n",
    "        # print('x',x)\n",
    "        # print('b',b)\n",
    "    return x\n",
    "    "
   ]
  },
  {
   "cell_type": "code",
   "execution_count": 55,
   "id": "777de822-bb96-4121-b284-46217b23e086",
   "metadata": {
    "tags": []
   },
   "outputs": [],
   "source": [
    "m = 128\n",
    "n = 128\n",
    "A =np.random.rand(m,n).astype(np.float64)\n",
    "x =np.random.rand(n,1).astype(np.float64)\n",
    "b =np.dot(A, x)"
   ]
  },
  {
   "cell_type": "code",
   "execution_count": 56,
   "id": "cc5a766b-d5a3-44e2-90ae-f0223ceb7fa9",
   "metadata": {
    "tags": []
   },
   "outputs": [
    {
     "name": "stdout",
     "output_type": "stream",
     "text": [
      "120/1282.113864638886298e-12\n"
     ]
    }
   ],
   "source": [
    "\n",
    "x_hat = overdetermined_linear_system_solver(A,b)\n",
    "b_hat = np.dot(A, x_hat)\n",
    "print(np.sum(np.abs(b_hat -b )))"
   ]
  },
  {
   "cell_type": "code",
   "execution_count": null,
   "id": "202fb074-652b-4cb8-aab0-dde8f0060fe1",
   "metadata": {},
   "outputs": [],
   "source": []
  }
 ],
 "metadata": {
  "kernelspec": {
   "display_name": "Python 3 (ipykernel)",
   "language": "python",
   "name": "python3"
  },
  "language_info": {
   "codemirror_mode": {
    "name": "ipython",
    "version": 3
   },
   "file_extension": ".py",
   "mimetype": "text/x-python",
   "name": "python",
   "nbconvert_exporter": "python",
   "pygments_lexer": "ipython3",
   "version": "3.7.3"
  }
 },
 "nbformat": 4,
 "nbformat_minor": 5
}
