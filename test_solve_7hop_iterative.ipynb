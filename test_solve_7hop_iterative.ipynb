{
 "cells": [
  {
   "cell_type": "code",
   "execution_count": 1,
   "id": "53d52bdd-2b85-4cae-9852-55d019df87a7",
   "metadata": {
    "tags": []
   },
   "outputs": [],
   "source": [
    "import IPython.display as ipd\n",
    "\n",
    "import numpy as np\n",
    "import torch\n",
    "\n",
    "\n",
    "# import stft_64_pad_0 as stft\n",
    "import stft_64 as stft\n",
    "from audio_processing import griffin_lim\n",
    "\n",
    "from scipy.io.wavfile import read\n",
    "import time"
   ]
  },
  {
   "cell_type": "code",
   "execution_count": 2,
   "id": "d01ad0e6-c39f-4eff-abe0-bb7e14983e97",
   "metadata": {
    "tags": []
   },
   "outputs": [
    {
     "name": "stdout",
     "output_type": "stream",
     "text": [
      "torch.Size([1, 28])\n",
      "tensor([0.6863, 0.3328, 0.8530, 0.9166, 0.9978, 0.2222, 0.9217, 0.1788, 0.3215,\n",
      "        0.2862], dtype=torch.float64)\n"
     ]
    }
   ],
   "source": [
    "hop_length = 4\n",
    "win_length = 4*hop_length\n",
    "channels = hop_length*2+1\n",
    "wav_length = hop_length*7\n",
    "\n",
    "audio_origin = torch.rand((1,wav_length), dtype=torch.float64)\n",
    "print(audio_origin.shape)\n",
    "print(audio_origin[0,:10])"
   ]
  },
  {
   "cell_type": "code",
   "execution_count": 3,
   "id": "596b5653-6b90-4e57-9226-0bcac9dcd36a",
   "metadata": {
    "tags": []
   },
   "outputs": [],
   "source": [
    "# stft_fn = stft.STFT(filter_length=4, hop_length=1, win_length=4,\n",
    "#                     window='hann')\n",
    "\n",
    "stft_fn = stft.STFT(filter_length=win_length, hop_length=hop_length, win_length=win_length,\n",
    "                    window=None)\n",
    "\n",
    "\n",
    "def compare(a,b):\n",
    "    return torch.mean(torch.abs(a-b)), torch.mean((a-b)*(a-b))\n",
    "\n",
    "def compare_L1(ori,gen):\n",
    "    return torch.mean(torch.abs(ori-gen)/torch.abs(ori))\n",
    "\n",
    "\n",
    "def compare_L2(a,b):\n",
    "    return torch.sum(torch.abs(a-b)), torch.sum((a-b)*(a-b))"
   ]
  },
  {
   "cell_type": "code",
   "execution_count": 4,
   "id": "b6b31542-c66e-496f-b85e-6be6f194bb72",
   "metadata": {
    "tags": []
   },
   "outputs": [
    {
     "name": "stdout",
     "output_type": "stream",
     "text": [
      "torch.Size([18, 1, 16])\n",
      "torch.Size([9])\n",
      "tensor([10.2010,  0.7522,  1.8549,  0.2704,  0.8865,  1.3528,  0.3495,  1.4804,\n",
      "         1.6199], dtype=torch.float64)\n",
      "torch.Size([1, 9, 4])\n"
     ]
    }
   ],
   "source": [
    "magnitude, phase_origin = stft_fn.transform(audio_origin)\n",
    "\n",
    "forward_basis = stft_fn.forward_basis\n",
    "print(forward_basis.shape)\n",
    "start_frame = 0\n",
    "M_Rc = torch.sum(forward_basis[:channels,0,:] * audio_origin[:,start_frame: start_frame+win_length], dim =1)\n",
    "M_Ic = torch.sum(forward_basis[channels:,0,:] * audio_origin[:,start_frame: start_frame+win_length], dim =1)\n",
    "M_c_square = torch.sqrt(M_Rc**2+M_Ic**2)\n",
    "print(M_c_square.shape)\n",
    "magnitude    = magnitude[:,:,2:6]\n",
    "phase_origin = phase_origin[:,:,2:6]\n",
    "print(magnitude[0,:,start_frame])\n",
    "print(magnitude.shape)\n"
   ]
  },
  {
   "cell_type": "code",
   "execution_count": 5,
   "id": "380d6ddf-b8dc-4cba-881e-deee9232e471",
   "metadata": {
    "tags": []
   },
   "outputs": [],
   "source": [
    "class hop_6_solver():\n",
    "    #magnitude shape: [channels=2H+1, 4]\n",
    "    #[channels, 0] for [1, hop_length*0: hop_length*4]\n",
    "    #[channels, 1] for [1, hop_length*1: hop_length*5]\n",
    "    #[channels, 2] for [1, hop_length*2: hop_length*6]\n",
    "    #[channels, 3] for [1, hop_length*3: hop_length*7]\n",
    "    #x: [hop_length*7,1]\n",
    "    \n",
    "    def __init__(self, hop_length, channels, win_length, stft_fn):\n",
    "        self.hop_length = hop_length\n",
    "        self.channels = channels\n",
    "        self.win_length = win_length\n",
    "        self.stft_fn = stft_fn\n",
    "    \n",
    "    def solve(self, mag, initial_guess, n_iters=50, lambda_JTJ=0):\n",
    "        #magnitude shape:      [hop_length*2+1, 4]\n",
    "        #initial_guess shape:  [1, 7*hop_length]\n",
    "        forward_basis = self.stft_fn.forward_basis\n",
    "        \n",
    "        start_time = time.time()\n",
    "        for n_iter_idx in range(n_iters):\n",
    "            if (n_iter_idx+1)%10==0:\n",
    "                print('Iter %d/%d: Used times: %.2f, Loss:%.8f' %(n_iter_idx,n_iters,time.time()-start_time, \n",
    "                                                                  torch.sum(torch.abs(targets)))\n",
    "                     )\n",
    "            targets = torch.zeros((self.channels*4, 1))\n",
    "            A_matrix = torch.zeros((self.channels*4, 7*self.hop_length))\n",
    "            for i in range(4):\n",
    "                start_hop = self.hop_length*i\n",
    "                end_hop   = self.hop_length*i + self.win_length\n",
    "                R_ic = torch.sum(forward_basis[:self.channels,0,:] * initial_guess[start_hop:end_hop, 0].unsqueeze(0), dim =1)\n",
    "                I_ic = torch.sum(forward_basis[self.channels:,0,:] * initial_guess[start_hop:end_hop, 0].unsqueeze(0), dim =1)\n",
    "                \n",
    "                targets[self.channels*i:self.channels*(i+1),0] = (mag[:, i]**2 - (R_ic**2+I_ic**2))/2\n",
    "                \n",
    "                A_matrix[self.channels*i:self.channels*(i+1), start_hop:end_hop] = \\\n",
    "                     forward_basis[:self.channels,0,:] * R_ic.unsqueeze(1) + \\\n",
    "                     forward_basis[self.channels:,0,:] * I_ic.unsqueeze(1)\n",
    "                \n",
    "            # print('target', targets)\n",
    "            # print('A_matrix', A_matrix)\n",
    "            temp = A_matrix.T @ A_matrix\n",
    "            # print('temp', temp)\n",
    "            add_ons = (torch.inverse(temp)) @ (A_matrix.T @ targets)\n",
    "            # print('add_ons', add_ons)\n",
    "            initial_guess = initial_guess + add_ons\n",
    "            \n",
    "        return initial_guess"
   ]
  },
  {
   "cell_type": "code",
   "execution_count": 6,
   "id": "f421cff3-6f88-44a5-b2e1-b1e6128c3a3d",
   "metadata": {},
   "outputs": [
    {
     "name": "stdout",
     "output_type": "stream",
     "text": [
      "Iter 9/100: Used times: 0.00, Loss:15.11869812\n",
      "Iter 19/100: Used times: 0.01, Loss:13.66700172\n",
      "Iter 29/100: Used times: 0.01, Loss:11.73900986\n",
      "Iter 39/100: Used times: 0.02, Loss:12.38022137\n",
      "Iter 49/100: Used times: 0.02, Loss:11.75629139\n",
      "Iter 59/100: Used times: 0.02, Loss:12.40001011\n",
      "Iter 69/100: Used times: 0.03, Loss:11.75977898\n",
      "Iter 79/100: Used times: 0.03, Loss:12.39877129\n",
      "Iter 89/100: Used times: 0.03, Loss:11.75954628\n",
      "Iter 99/100: Used times: 0.04, Loss:12.39823437\n",
      "\n",
      "\n",
      "ans    tensor([ 0.1445,  0.3448,  1.0901,  0.9040,  0.6132,  1.3468,  0.1708,  1.0450,\n",
      "         0.3204,  0.4823,  0.4504,  0.8784,  0.7010,  0.5576,  0.7759,  0.3750,\n",
      "         0.8527,  0.2357, -0.2118,  0.5502, -0.2421,  0.2937,  0.6919,  0.8209,\n",
      "        -0.1437,  0.3829,  0.3701,  0.7501], dtype=torch.float64)\n",
      "origin tensor([0.6863, 0.3328, 0.8530, 0.9166, 0.9978, 0.2222, 0.9217, 0.1788, 0.3215,\n",
      "        0.2862, 0.9611, 0.7934, 0.7195, 0.9254, 0.4497, 0.6352, 0.2595, 0.1618,\n",
      "        0.8676, 0.4410, 0.0720, 0.1916, 0.1095, 0.3379, 0.2544, 0.9017, 0.0227,\n",
      "        0.4099], dtype=torch.float64)\n"
     ]
    }
   ],
   "source": [
    "initial_guess = torch.rand((7*hop_length,1), dtype = torch.float64)\n",
    "# initial_guess[:,0] = audio_origin[0, :] + initial_guess[:, 0]\n",
    "\n",
    "newton_method = hop_6_solver(hop_length, channels, win_length, stft_fn)\n",
    "ans = newton_method.solve(magnitude[0, :,:], initial_guess, n_iters=100)\n",
    "print('\\n')\n",
    "print('ans   ', ans[:, 0])\n",
    "print('origin', audio_origin[0, :])\n",
    "# print('error       ', newton_method.func(ans))\n",
    "# print('error origin', newton_method.func(audio_origin))\n",
    "# print('ans part    3', ans[0,3*hop_length:4*hop_length])\n",
    "# print('origin part 3', audio_origin[0, 3*hop_length:4*hop_length])"
   ]
  },
  {
   "cell_type": "code",
   "execution_count": 11,
   "id": "a4009b76-b828-4fe5-a1c2-d37a15a7f51b",
   "metadata": {},
   "outputs": [
    {
     "name": "stdout",
     "output_type": "stream",
     "text": [
      "9/100:0.2185, 0.0620\n",
      "19/100:0.1610, 0.0380\n",
      "29/100:0.1380, 0.0291\n",
      "39/100:0.1272, 0.0248\n",
      "49/100:0.1209, 0.0226\n",
      "59/100:0.1171, 0.0213\n",
      "69/100:0.1144, 0.0205\n",
      "79/100:0.1125, 0.0199\n",
      "89/100:0.1110, 0.0195\n",
      "99/100:0.1098, 0.0192\n",
      "\n",
      "\n",
      "ans    tensor([ 0.7227,  0.5825,  0.7562,  0.8082,  1.1968,  0.0474,  0.7270,  0.3265,\n",
      "         0.3684,  0.3142,  0.9189,  0.9305,  0.7249,  0.7885,  0.4513,  0.5407,\n",
      "         0.3538,  0.1456,  0.8571,  0.4490, -0.0508,  0.2516,  0.0469,  0.4073,\n",
      "         0.5124,  0.6857, -0.1067,  0.7347], dtype=torch.float64)\n",
      "origin tensor([0.6863, 0.3328, 0.8530, 0.9166, 0.9978, 0.2222, 0.9217, 0.1788, 0.3215,\n",
      "        0.2862, 0.9611, 0.7934, 0.7195, 0.9254, 0.4497, 0.6352, 0.2595, 0.1618,\n",
      "        0.8676, 0.4410, 0.0720, 0.1916, 0.1095, 0.3379, 0.2544, 0.9017, 0.0227,\n",
      "        0.4099], dtype=torch.float64)\n"
     ]
    }
   ],
   "source": [
    "\n",
    "def griffin_lim(mag, stft_fn, n_iters=30):\n",
    "    \n",
    "    angles = torch.rand(mag.shape, dtype = torch.float64)\n",
    "    # angles[:,:] = phase_origin[0, :,:] + 1*torch.rand(mag.shape, dtype = torch.float64)\n",
    "    # angles[:,:] = phase_origin[0, :,:] \n",
    "    inverse_basis = stft_fn.inverse_basis.squeeze(1) * 4\n",
    "    divident = torch.zeros((1, 7*hop_length), dtype = torch.float64)\n",
    "    for i in range(4):\n",
    "        divident[0, hop_length*i : hop_length*i + win_length] = \\\n",
    "                   divident[0, hop_length*i : hop_length*i + win_length]+1\n",
    "    # print('divident', divident)\n",
    "    for n_iter in range(n_iters):\n",
    "        if (n_iter+1)%10==0:\n",
    "            # f.write('%d/%d:%.4f'%(i,n_iters,compare_L1(magnitude,MAG)))\n",
    "            a1,a2 = compare(signal, audio_origin)\n",
    "            print('%d/%d:%.4f, %.4f'%(n_iter,n_iters,a1,a2))\n",
    "        signal = torch.zeros((1, 7*hop_length), dtype = torch.float64)\n",
    "        recombine_magnitude_phase = torch.cat(\n",
    "            [mag*torch.cos(angles), mag*torch.sin(angles)], dim=0)\n",
    "        \n",
    "        # print(recombine_magnitude_phase.shape)\n",
    "        # print(inverse_basis.shape)\n",
    "        for i in range(4):\n",
    "            signal[0, hop_length*i : hop_length*i + win_length] = \\\n",
    "                   signal[0, hop_length*i : hop_length*i + win_length] + \\\n",
    "                   (inverse_basis.T @ recombine_magnitude_phase[:, [i]]).T\n",
    "            # print((inverse_basis.T @ recombine_magnitude_phase[:, [i]]).T[0,:])\n",
    "            # break\n",
    "        signal = signal/divident\n",
    "        # break\n",
    "        \n",
    "        _, angles = stft_fn.transform(signal)\n",
    "        angles = angles[0, :, 2:6]\n",
    "    return signal\n",
    "\n",
    "griffin_ans = griffin_lim(magnitude[0,:,:], stft_fn, n_iters=100)\n",
    "print('\\n')\n",
    "print('ans   ', griffin_ans[0, :])\n",
    "print('origin', audio_origin[0, :])"
   ]
  },
  {
   "cell_type": "code",
   "execution_count": 10,
   "id": "4c5a25f4-14e6-448d-8b31-73676c8d50f9",
   "metadata": {
    "tags": []
   },
   "outputs": [],
   "source": [
    "class hop_7_L_solver():\n",
    "    #L shape: [channels=2H+1, 4]\n",
    "    #[channels, 0] for [1, hop_length*0: hop_length*4]\n",
    "    #[channels, 1] for [1, hop_length*1: hop_length*5]\n",
    "    #[channels, 2] for [1, hop_length*2: hop_length*6]\n",
    "    #[channels, 3] for [1, hop_length*3: hop_length*7]\n",
    "    #x: [1, hop_length*7]\n",
    "    \n",
    "    def __init__(self, hop_length, channels, win_length):\n",
    "        self.hop_length = hop_length\n",
    "        self.channels = channels\n",
    "        self.win_length = win_length\n",
    "        \n",
    "    def test(self, p, L):\n",
    "        targets = []\n",
    "        \n",
    "        # print(M_c_square.shape)\n",
    "        for hop_iter in range(4):\n",
    "            start_frame = hop_iter * self.hop_length\n",
    "            for c in range(self.channels):\n",
    "                L_ci = torch.sum(p[0, start_frame: start_frame + self.win_length] * \\\n",
    "                                 torch.roll(p[0, start_frame: start_frame + self.win_length], c)\n",
    "                                ) - L[c,hop_iter]\n",
    "                targets.append(L_ci)\n",
    "        return torch.stack(targets)\n",
    "    \n",
    "    def func(self, p):\n",
    "        targets = []\n",
    "        \n",
    "        # print(M_c_square.shape)\n",
    "        for hop_iter in range(4):\n",
    "            start_frame = hop_iter * self.hop_length\n",
    "            for c in range(self.channels):\n",
    "                L_ci = torch.sum(p[0, start_frame: start_frame + self.win_length] * \\\n",
    "                                 torch.roll(p[0, start_frame: start_frame + self.win_length], c)\n",
    "                                ) - self.L[c,hop_iter]\n",
    "                targets.append(L_ci)\n",
    "        return torch.stack(targets)\n",
    "    \n",
    "    def solve(self, L, initial_guess, n_iters=50, lambda_JTJ=1):\n",
    "        #magnitude shape:      [1, hop_length*2+1, 4]\n",
    "        #initial_guess shape:  [1, 7*hop_length]\n",
    "        \n",
    "        self.L =L\n",
    "        start_time = time.time()\n",
    "        for i in range(n_iters):\n",
    "            print('\\rIter %d/%d: Used times: %.2f' %(i,n_iters,time.time()-start_time), end=\"\")\n",
    "            # check(recon)\n",
    "            #print('#')\n",
    "            x = torch.tensor(initial_guess.detach().numpy(), dtype=torch.float64, requires_grad = True) \n",
    "            # x = torch.from_numpy(np.zeros(initial_guess.shape))\n",
    "            \n",
    "            J = torch.autograd.functional.jacobian(self.func, x)\n",
    "            # print('J shape', J.shape)\n",
    "           \n",
    "            J = J.squeeze(1)\n",
    "            # print('')\n",
    "            # print('J',J)\n",
    "            target = self.func(x).detach().numpy()\n",
    "            \n",
    "            \n",
    "            temp = J.T @ J\n",
    "            minus = (torch.inverse(temp))@ (J.T @ target)\n",
    "            minus = minus.numpy()\n",
    "        \n",
    "            initial_guess = initial_guess - minus.T\n",
    "            \n",
    "        return initial_guess"
   ]
  },
  {
   "cell_type": "code",
   "execution_count": 17,
   "id": "4f5d0449-053c-4f3e-a010-cab31440abe8",
   "metadata": {
    "tags": []
   },
   "outputs": [
    {
     "name": "stdout",
     "output_type": "stream",
     "text": [
      "Iter 19/20: Used times: 1.06\n",
      "\n",
      "ans    tensor([ 0.7316,  0.3779,  0.8279,  0.8773,  1.0273,  0.1878,  0.8982,  0.2403,\n",
      "         0.3131,  0.2451,  0.9633,  0.8630,  0.7246,  0.9053,  0.4225,  0.5957,\n",
      "         0.3054,  0.1843,  0.8467,  0.4204,  0.0016,  0.2584,  0.1662,  0.3159,\n",
      "         0.4708,  0.5871, -0.1811,  0.7365], dtype=torch.float64)\n",
      "origin tensor([0.6863, 0.3328, 0.8530, 0.9166, 0.9978, 0.2222, 0.9217, 0.1788, 0.3215,\n",
      "        0.2862, 0.9611, 0.7934, 0.7195, 0.9254, 0.4497, 0.6352, 0.2595, 0.1618,\n",
      "        0.8676, 0.4410, 0.0720, 0.1916, 0.1095, 0.3379, 0.2544, 0.9017, 0.0227,\n",
      "        0.4099], dtype=torch.float64)\n",
      "error        tensor([ 3.2415e-03,  4.0435e-03, -1.2372e-02, -9.2928e-03,  1.1186e-02,\n",
      "         9.4537e-03, -2.4953e-03, -7.5473e-04, -1.8573e-03, -2.2764e-04,\n",
      "         8.1812e-03,  1.0197e-02, -2.0565e-03, -7.8618e-03, -2.4817e-03,\n",
      "         1.5292e-02, -3.8524e-03, -1.7165e-02, -2.8891e-03, -4.4661e-03,\n",
      "        -6.3626e-03,  7.9339e-03,  3.8242e-04, -9.6620e-03, -3.0856e-03,\n",
      "         1.0317e-03,  1.2554e-02, -3.2540e-05,  1.5178e-02,  8.1750e-03,\n",
      "        -9.8603e-03, -1.2594e-02, -4.6117e-03,  9.8031e-03,  4.4444e-03,\n",
      "        -7.1914e-03], dtype=torch.float64)\n",
      "error origin tensor([ 1.1546e-14, -8.8818e-16, -2.6645e-15, -5.3291e-15,  2.6645e-15,\n",
      "         2.6645e-15,  5.3291e-15, -8.8818e-16,  1.7764e-15,  7.9936e-15,\n",
      "         0.0000e+00, -1.7764e-15, -2.6645e-15,  2.6645e-15,  8.8818e-16,\n",
      "         4.4409e-15, -8.8818e-16,  4.4409e-15,  7.1054e-15,  0.0000e+00,\n",
      "        -8.8818e-16, -2.2204e-15,  1.7764e-15,  2.2204e-15,  3.5527e-15,\n",
      "        -1.7764e-15,  3.1086e-15,  4.4409e-15,  0.0000e+00, -8.8818e-16,\n",
      "        -2.6645e-15,  4.4409e-16,  8.8818e-16,  2.6645e-15, -8.8818e-16,\n",
      "         6.6613e-16], dtype=torch.float64)\n",
      "ans part    3 tensor([0.7246, 0.9053, 0.4225, 0.5957], dtype=torch.float64)\n",
      "origin part 3 tensor([0.7195, 0.9254, 0.4497, 0.6352], dtype=torch.float64)\n"
     ]
    }
   ],
   "source": [
    "\n",
    "from solver_test import *\n",
    "L = magnitude_to_L(magnitude, stft_fn.forward_basis[:2*hop_length+1,:,:])\n",
    "initial_guess = torch.zeros((1, 7*hop_length), dtype = torch.float64)\n",
    "initial_guess[:,:] = griffin_ans[:,:]\n",
    "\n",
    "newton_method = hop_7_L_solver(hop_length, channels, win_length)\n",
    "ans = newton_method.solve(L[:,:], initial_guess, n_iters=20, lambda_JTJ=0)\n",
    "print('\\n')\n",
    "print('ans   ', ans[0, :])\n",
    "print('origin', audio_origin[0, :])\n",
    "print('error       ', newton_method.func(ans))\n",
    "print('error origin', newton_method.func(audio_origin))\n",
    "print('ans part    3', ans[0,3*hop_length:4*hop_length])\n",
    "print('origin part 3', audio_origin[0, 3*hop_length:4*hop_length])"
   ]
  },
  {
   "cell_type": "code",
   "execution_count": null,
   "id": "5219df14-0fb4-45af-9359-a86269d73167",
   "metadata": {},
   "outputs": [],
   "source": []
  }
 ],
 "metadata": {
  "kernelspec": {
   "display_name": "Python 3 (ipykernel)",
   "language": "python",
   "name": "python3"
  },
  "language_info": {
   "codemirror_mode": {
    "name": "ipython",
    "version": 3
   },
   "file_extension": ".py",
   "mimetype": "text/x-python",
   "name": "python",
   "nbconvert_exporter": "python",
   "pygments_lexer": "ipython3",
   "version": "3.7.3"
  }
 },
 "nbformat": 4,
 "nbformat_minor": 5
}
