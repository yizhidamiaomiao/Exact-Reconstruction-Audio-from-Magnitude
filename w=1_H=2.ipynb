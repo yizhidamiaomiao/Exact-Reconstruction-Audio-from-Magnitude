{
 "cells": [
  {
   "cell_type": "code",
   "execution_count": 1,
   "id": "53d52bdd-2b85-4cae-9852-55d019df87a7",
   "metadata": {
    "tags": []
   },
   "outputs": [],
   "source": [
    "import IPython.display as ipd\n",
    "\n",
    "import numpy as np\n",
    "import torch\n",
    "\n",
    "\n",
    "# import stft_64_pad_0 as stft\n",
    "import stft_64 as stft\n",
    "from audio_processing import griffin_lim\n",
    "\n",
    "from scipy.io.wavfile import read\n",
    "import time"
   ]
  },
  {
   "cell_type": "code",
   "execution_count": 2,
   "id": "d01ad0e6-c39f-4eff-abe0-bb7e14983e97",
   "metadata": {
    "tags": []
   },
   "outputs": [
    {
     "name": "stdout",
     "output_type": "stream",
     "text": [
      "torch.Size([1, 12])\n",
      "tensor([0.1643, 0.8396, 0.7345, 0.9361, 0.5169, 0.9671, 0.1016, 0.3702, 0.4463,\n",
      "        0.2089], dtype=torch.float64)\n"
     ]
    }
   ],
   "source": [
    "hop_length = 2\n",
    "frames = 6\n",
    "win_length = 4*hop_length\n",
    "channels = hop_length*2+1\n",
    "wav_length = hop_length*frames\n",
    "\n",
    "\n",
    "audio_origin = torch.rand((1,wav_length), dtype=torch.float64)\n",
    "print(audio_origin.shape)\n",
    "print(audio_origin[0,:10])"
   ]
  },
  {
   "cell_type": "code",
   "execution_count": 3,
   "id": "596b5653-6b90-4e57-9226-0bcac9dcd36a",
   "metadata": {
    "tags": []
   },
   "outputs": [],
   "source": [
    "# stft_fn = stft.STFT(filter_length=4, hop_length=1, win_length=4,\n",
    "#                     window='hann')\n",
    "\n",
    "stft_fn = stft.STFT(filter_length=win_length, hop_length=hop_length, win_length=win_length,\n",
    "                    window=None)\n",
    "\n",
    "\n",
    "def compare(a,b):\n",
    "    return torch.mean(torch.abs(a-b)), torch.mean((a-b)*(a-b))\n",
    "\n",
    "def compare_L1(ori,gen):\n",
    "    return torch.mean(torch.abs(ori-gen)/torch.abs(ori))\n",
    "\n",
    "\n",
    "def compare_L2(a,b):\n",
    "    return torch.sum(torch.abs(a-b)), torch.sum((a-b)*(a-b))\n",
    "\n",
    "def magnitude_to_L(magnitude, forward_basis):\n",
    "    # magnitude:      [1, 2H+1, T]\n",
    "    # forward_basis:  [2H+1, 1, 4H]\n",
    "    \n",
    "    # output L shape: [2H+1,T]\n",
    "    H = (magnitude.shape[1]-1)//2\n",
    "    basis = np.zeros((2*H+1,2*H+1), dtype= np.float64)\n",
    "    basis[:, :] = forward_basis[:,0,:2*H+1]\n",
    "    basis_inv = np.linalg.pinv(basis)\n",
    "    L = np.matmul(basis_inv, magnitude[0,:,:]**2)\n",
    "    L[1:2*H+1] = L[1:2*H+1]/2\n",
    "    return L"
   ]
  },
  {
   "cell_type": "code",
   "execution_count": 4,
   "id": "b6b31542-c66e-496f-b85e-6be6f194bb72",
   "metadata": {
    "tags": []
   },
   "outputs": [
    {
     "name": "stdout",
     "output_type": "stream",
     "text": [
      "torch.Size([10, 1, 8])\n",
      "torch.Size([5])\n",
      "torch.Size([1, 5, 7])\n",
      "tensor([4.6303, 1.2648, 0.5239, 0.3511, 1.5957], dtype=torch.float64)\n",
      "torch.Size([1, 5, 3])\n"
     ]
    }
   ],
   "source": [
    "magnitude, phase_origin = stft_fn.transform(audio_origin)\n",
    "\n",
    "forward_basis = stft_fn.forward_basis\n",
    "print(forward_basis.shape)\n",
    "start_frame = 0\n",
    "M_Rc = torch.sum(forward_basis[:channels,0,:] * audio_origin[:,start_frame: start_frame+win_length], dim =1)\n",
    "M_Ic = torch.sum(forward_basis[channels:,0,:] * audio_origin[:,start_frame: start_frame+win_length], dim =1)\n",
    "M_c_square = torch.sqrt(M_Rc**2+M_Ic**2)\n",
    "print(M_c_square.shape)\n",
    "print(magnitude.shape)\n",
    "magnitude    = magnitude[:,:,2:-2]\n",
    "phase_origin = phase_origin[:,:,2:-2]\n",
    "print(magnitude[0,:,start_frame])\n",
    "print(magnitude.shape)\n"
   ]
  },
  {
   "cell_type": "code",
   "execution_count": 5,
   "id": "a30f483e-bd00-40a0-bc90-0726380f13ed",
   "metadata": {
    "tags": []
   },
   "outputs": [
    {
     "name": "stdout",
     "output_type": "stream",
     "text": [
      "tensor(4.6303, dtype=torch.float64)\n",
      "tensor(-1.5957, dtype=torch.float64)\n",
      "tensor(4.2816, dtype=torch.float64)\n",
      "tensor(-0.6829, dtype=torch.float64)\n",
      "tensor(4.0746, dtype=torch.float64)\n",
      "tensor(-0.6443, dtype=torch.float64)\n"
     ]
    }
   ],
   "source": [
    "for i in range(3):\n",
    "    idx = 1\n",
    "    sums = 0\n",
    "    for t in range(i*hop_length, i*hop_length + win_length):\n",
    "        sums = sums + idx * audio_origin[0,t]\n",
    "        idx = idx*1\n",
    "    print(sums)\n",
    "    \n",
    "    idx = 1\n",
    "    sums = 0\n",
    "    for t in range(i*hop_length, i*hop_length + win_length):\n",
    "        sums = sums + idx * audio_origin[0,t]\n",
    "        idx = idx*(-1)\n",
    "    print(sums)"
   ]
  },
  {
   "cell_type": "code",
   "execution_count": 14,
   "id": "921cd0fb-65ee-4fa7-8b3d-f361cb14d942",
   "metadata": {
    "tags": []
   },
   "outputs": [
    {
     "name": "stdout",
     "output_type": "stream",
     "text": [
      "(5, 3)\n",
      "###########\n",
      "1.7381929229287607e-14\n",
      "recon [[0.16431234 0.83960605 0.73453925 0.93608793 0.51688098 0.96711897\n",
      "  0.10156159 0.37018266]]\n",
      "origin [[0.16431234 0.83960605 0.73453925 0.93608793 0.51688098 0.96711897\n",
      "  0.10156159 0.37018266]]\n",
      "###########\n",
      "1.7381929229287607e-14\n",
      "recon [[-0.16431234 -0.83960605 -0.73453925 -0.93608793 -0.51688098 -0.96711897\n",
      "  -0.10156159 -0.37018266]]\n",
      "origin [[0.16431234 0.83960605 0.73453925 0.93608793 0.51688098 0.96711897\n",
      "  0.10156159 0.37018266]]\n"
     ]
    }
   ],
   "source": [
    "L = magnitude_to_L(magnitude, stft_fn.forward_basis[:2*hop_length+1,:,:])\n",
    "L = L.numpy()\n",
    "print(L.shape)\n",
    "\n",
    "for i in range(2**6):\n",
    "    sgn10 = (i%(2**1))//(2**0)\n",
    "    # sgn10 = 1 \n",
    "    T10 = (sgn10 * 2 - 1) * np.sqrt(L[0,0] + 2*L[1,0] + 2*L[2,0] + 2*L[3,0] + 2*L[4,0])\n",
    "    sgn20 = (i%(2**2))//(2**1)\n",
    "    # sgn20 = 0\n",
    "    T20 = (sgn20 * 2 - 1) * np.sqrt(L[0,0] - 2*L[1,0] + 2*L[2,0] - 2*L[3,0] + 2*L[4,0])\n",
    "    S10 = (T10+T20)/2\n",
    "    S20 = (T10-T20)/2\n",
    "    \n",
    "    sgn11 = (i%(2**3))//(2**2)\n",
    "    # sgn11 = 1 \n",
    "    T11 = (sgn11 * 2 - 1) * np.sqrt(L[0,1] + 2*L[1,1] + 2*L[2,1] + 2*L[3,1] + 2*L[4,1])\n",
    "    sgn21 = (i%(2**4))//(2**3)\n",
    "    # sgn21 = 0\n",
    "    T21 = (sgn21 * 2 - 1) * np.sqrt(L[0,1] - 2*L[1,1] + 2*L[2,1] - 2*L[3,1] + 2*L[4,1])\n",
    "    S11 = (T11+T21)/2\n",
    "    S21 = (T11-T21)/2\n",
    "    \n",
    "    sgn12 = (i%(2**5))//(2**4)\n",
    "    # sgn12 = 1 \n",
    "    T12 = (sgn12 * 2 - 1) * np.sqrt(L[0,2] + 2*L[1,2] + 2*L[2,2] + 2*L[3,2] + 2*L[4,2])\n",
    "    sgn22 = (i%(2**6))//(2**5)\n",
    "    # sgn22 = 0\n",
    "    T22 = (sgn22 * 2 - 1) * np.sqrt(L[0,2] - 2*L[1,2] + 2*L[2,2] - 2*L[3,2] + 2*L[4,2])\n",
    "    S12 = (T12+T22)/2\n",
    "    S22 = (T12-T22)/2\n",
    "    \n",
    "    x8_0 = S11 - S10\n",
    "    x9_1 = S21 - S20\n",
    "    x10_2 = S12 - S11\n",
    "    x11_3 = S22 - S21\n",
    "    \n",
    "    A_matrix = np.zeros((10,8), dtype=np.double)\n",
    "    b = np.zeros((10,1), dtype=np.double)\n",
    "    \n",
    "    \n",
    "    ### equations for 0-4\n",
    "    A_matrix[0,0] = 2*x8_0\n",
    "    A_matrix[0,1] = 2*x9_1\n",
    "    b[0,0] = L[0,1] - L[0,0] - x8_0**2 - x9_1**2\n",
    "    \n",
    "    \n",
    "    A_matrix[1,1], A_matrix[1,7] = x8_0, x8_0\n",
    "    A_matrix[1,0], A_matrix[1,2] = x9_1, x9_1\n",
    "    b[1,0] = L[1,1] - L[1,0]-x9_1*x8_0\n",
    "    \n",
    "    A_matrix[2,2], A_matrix[2,6] = x8_0, x8_0\n",
    "    A_matrix[2,3], A_matrix[2,7] = x9_1, x9_1\n",
    "    b[2,0] = L[2,1] - L[2,0]\n",
    "    \n",
    "    A_matrix[3,3], A_matrix[3,5] = x8_0, x8_0\n",
    "    A_matrix[3,4], A_matrix[3,6] = x9_1, x9_1\n",
    "    b[3,0] = L[3,1] - L[3,0]\n",
    "    \n",
    "    A_matrix[4,4]= x8_0\n",
    "    A_matrix[4,5]= x9_1\n",
    "    b[4,0] = L[4,1] - L[4,0]\n",
    "    \n",
    "    ### equations for 5-9\n",
    "    A_matrix[5,2] = 2*x10_2\n",
    "    A_matrix[5,3] = 2*x11_3\n",
    "    b[5,0] = L[0,2] - L[0,1] - x10_2**2 - x11_3**2\n",
    "    \n",
    "    \n",
    "    A_matrix[6,1], A_matrix[6,3] = x10_2, x10_2\n",
    "    A_matrix[6,2], A_matrix[6,4] = x11_3, x11_3\n",
    "    b[6,0] = L[1,2] - L[1,1] - x10_2*x9_1 - x11_3*x10_2\n",
    "    \n",
    "    A_matrix[7,0], A_matrix[7,4] = x10_2, x10_2\n",
    "    A_matrix[7,1], A_matrix[7,5] = x11_3, x11_3\n",
    "    b[7,0] = L[2,2] - L[2,1] - x10_2*x8_0 - x11_3*x9_1\n",
    "    \n",
    "    A_matrix[8,7], A_matrix[8,5] = x10_2, x10_2\n",
    "    A_matrix[8,0], A_matrix[8,6] = x11_3, x11_3\n",
    "    b[8,0] = L[3,2] - L[3,1] - x11_3*x8_0\n",
    "    \n",
    "    A_matrix[9,6]= x10_2\n",
    "    A_matrix[9,7]= x11_3\n",
    "    b[9,0] = L[4,2] - L[4,1]\n",
    "    \n",
    "    temp = A_matrix.T @ A_matrix\n",
    "    ans = (np.linalg.inv(temp)) @ (A_matrix.T @ b)\n",
    "    b_hat = A_matrix @ ans\n",
    "    \n",
    "    test_arr = []\n",
    "    for i in range(2*hop_length+1):\n",
    "        test_arr.append(np.sum(ans[:8,0] * \\\n",
    "                               np.roll(ans[:8,0],i)\n",
    "                              )\n",
    "                       )\n",
    "    test_arr[-1] = test_arr[-1]/2\n",
    "    \n",
    "    \n",
    "    if np.sum(np.abs(test_arr - L[:,0]))<1e-6:\n",
    "        print('###########')\n",
    "        print(np.sum(np.abs(b_hat-b)))\n",
    "        print('recon' , ans.T)\n",
    "        print('origin', audio_origin[:,:8].numpy())"
   ]
  },
  {
   "cell_type": "code",
   "execution_count": null,
   "id": "6521610e-8f5b-43b4-9d5d-f395dd0cec3c",
   "metadata": {},
   "outputs": [],
   "source": []
  }
 ],
 "metadata": {
  "kernelspec": {
   "display_name": "Python 3 (ipykernel)",
   "language": "python",
   "name": "python3"
  },
  "language_info": {
   "codemirror_mode": {
    "name": "ipython",
    "version": 3
   },
   "file_extension": ".py",
   "mimetype": "text/x-python",
   "name": "python",
   "nbconvert_exporter": "python",
   "pygments_lexer": "ipython3",
   "version": "3.7.3"
  }
 },
 "nbformat": 4,
 "nbformat_minor": 5
}
