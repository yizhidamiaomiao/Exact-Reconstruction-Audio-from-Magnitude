{
 "cells": [
  {
   "cell_type": "code",
   "execution_count": 1,
   "id": "53d52bdd-2b85-4cae-9852-55d019df87a7",
   "metadata": {
    "tags": []
   },
   "outputs": [],
   "source": [
    "import IPython.display as ipd\n",
    "\n",
    "import numpy as np\n",
    "import torch\n",
    "\n",
    "\n",
    "# import stft_64_pad_0 as stft\n",
    "import stft_64 as stft\n",
    "from audio_processing import griffin_lim\n",
    "\n",
    "from scipy.io.wavfile import read\n",
    "import time"
   ]
  },
  {
   "cell_type": "code",
   "execution_count": 2,
   "id": "0d6cef84-75e4-4c4d-9207-4a9356af39b6",
   "metadata": {
    "tags": []
   },
   "outputs": [],
   "source": [
    "N = 4"
   ]
  },
  {
   "cell_type": "code",
   "execution_count": 3,
   "id": "58d3d506-731b-4e82-86a1-91d7464b9588",
   "metadata": {
    "tags": []
   },
   "outputs": [
    {
     "name": "stdout",
     "output_type": "stream",
     "text": [
      "35\n"
     ]
    }
   ],
   "source": [
    "all_4_pair = {}\n",
    "for i in range(N):\n",
    "    for j in range(N):\n",
    "        for k in range(N):\n",
    "            for l in range(N):\n",
    "                temp = [i,j,k,l]\n",
    "                temp.sort()\n",
    "                if tuple(temp) not in all_4_pair:\n",
    "                    all_4_pair[tuple(temp)] = 0\n",
    "                    \n",
    "print(len(all_4_pair))\n",
    "# print(all_4_pair)\n",
    "\n",
    "all_4_arr = list(all_4_pair)\n",
    "# print(all_4_arr)"
   ]
  },
  {
   "cell_type": "code",
   "execution_count": 4,
   "id": "d64c2799-c444-4372-8bbb-fbe53d57af61",
   "metadata": {
    "tags": []
   },
   "outputs": [],
   "source": [
    "def multiple_two_dict(dic1, dic2):\n",
    "    new_dic = all_4_pair.copy()\n",
    "    for x1 in dic1:\n",
    "        for x2 in dic2:\n",
    "            temp = list(x1 + x2)\n",
    "            temp.sort()\n",
    "            temp = tuple(temp)\n",
    "            if temp not in new_dic:\n",
    "                new_dic[temp] = 0\n",
    "            new_dic[temp] += (dic1[x1]*dic2[x2])\n",
    "    return new_dic\n",
    "\n",
    "# multiple_two_dict({(0,1):1}, {(0,2):1})"
   ]
  },
  {
   "cell_type": "code",
   "execution_count": 5,
   "id": "4484c33c-79b7-4bb3-8723-850a7c523733",
   "metadata": {
    "tags": []
   },
   "outputs": [],
   "source": [
    "dic_arr = []\n",
    "for k in range(N//2):\n",
    "    dic_arr.append({})\n",
    "    for i in range(N):\n",
    "        i_plus_k = (i+k)%N\n",
    "        temp =[i, i_plus_k]\n",
    "        temp.sort()\n",
    "        temp = tuple(temp)\n",
    "        dic_arr[-1][temp] = 1\n",
    "        \n",
    "dic_arr.append({})\n",
    "for i in range(N//2):\n",
    "    i_plus_k = (i+N//2)%N\n",
    "    temp =[i, i_plus_k]\n",
    "    temp.sort()\n",
    "    temp = tuple(temp)\n",
    "    dic_arr[-1][temp] = 1\n",
    "\n",
    "# for k in range(N//2+1):\n",
    "#     print(dic_arr[k])"
   ]
  },
  {
   "cell_type": "code",
   "execution_count": 23,
   "id": "c27b9b09-f81d-4c63-af0e-56406e690903",
   "metadata": {
    "tags": []
   },
   "outputs": [
    {
     "name": "stdout",
     "output_type": "stream",
     "text": [
      "6\n",
      "35\n",
      "{(0, 0, 0, 0): 1, (0, 0, 0, 1): 0, (0, 0, 0, 2): 0, (0, 0, 0, 3): 0, (0, 0, 1, 1): 2, (0, 0, 1, 2): 0, (0, 0, 1, 3): 0, (0, 0, 2, 2): 2, (0, 0, 2, 3): 0, (0, 0, 3, 3): 2, (0, 1, 1, 1): 0, (0, 1, 1, 2): 0, (0, 1, 1, 3): 0, (0, 1, 2, 2): 0, (0, 1, 2, 3): 0, (0, 1, 3, 3): 0, (0, 2, 2, 2): 0, (0, 2, 2, 3): 0, (0, 2, 3, 3): 0, (0, 3, 3, 3): 0, (1, 1, 1, 1): 1, (1, 1, 1, 2): 0, (1, 1, 1, 3): 0, (1, 1, 2, 2): 2, (1, 1, 2, 3): 0, (1, 1, 3, 3): 2, (1, 2, 2, 2): 0, (1, 2, 2, 3): 0, (1, 2, 3, 3): 0, (1, 3, 3, 3): 0, (2, 2, 2, 2): 1, (2, 2, 2, 3): 0, (2, 2, 3, 3): 2, (2, 3, 3, 3): 0, (3, 3, 3, 3): 1}\n"
     ]
    }
   ],
   "source": [
    "dic_arr_4 = []\n",
    "for i in range(N//2+1):\n",
    "    for j in range(i+1):\n",
    "        dic_arr_4.append(multiple_two_dict(dic_arr[i],dic_arr[j]))\n",
    "print(len(dic_arr_4))\n",
    "print(len(dic_arr_4[0]))\n",
    "print(dic_arr_4[0])"
   ]
  },
  {
   "cell_type": "code",
   "execution_count": 48,
   "id": "825c662e-9422-4fb4-b4d6-7eaa3efd5b78",
   "metadata": {
    "tags": []
   },
   "outputs": [
    {
     "name": "stdout",
     "output_type": "stream",
     "text": [
      "{(0, 0, 0, 0): (1+0j), (0, 0, 0, 1): 4j, (0, 0, 0, 2): (-4+0j), (0, 0, 0, 3): -4j, (0, 0, 1, 1): (-6+0j), (0, 0, 1, 2): -12j, (0, 0, 1, 3): (12+0j), (0, 0, 2, 2): (6+0j), (0, 0, 2, 3): 12j, (0, 0, 3, 3): (-6+0j), (0, 1, 1, 1): -4j, (0, 1, 1, 2): (12+0j), (0, 1, 1, 3): 12j, (0, 1, 2, 2): 12j, (0, 1, 2, 3): (-24+0j), (0, 1, 3, 3): -12j, (0, 2, 2, 2): (-4+0j), (0, 2, 2, 3): -12j, (0, 2, 3, 3): (12+0j), (0, 3, 3, 3): 4j, (1, 1, 1, 1): (1+0j), (1, 1, 1, 2): 4j, (1, 1, 1, 3): (-4+0j), (1, 1, 2, 2): (-6+0j), (1, 1, 2, 3): -12j, (1, 1, 3, 3): (6+0j), (1, 2, 2, 2): -4j, (1, 2, 2, 3): (12+0j), (1, 2, 3, 3): 12j, (1, 3, 3, 3): (-4+0j), (2, 2, 2, 2): (1+0j), (2, 2, 2, 3): 4j, (2, 2, 3, 3): (-6+0j), (2, 3, 3, 3): -4j, (3, 3, 3, 3): (1+0j)}\n"
     ]
    }
   ],
   "source": [
    "\n",
    "\n",
    "\n",
    "target = all_4_pair.copy()\n",
    "target_arr = [[0,1,2,3],\n",
    "             ]\n",
    "\n",
    "for s1 in range(1):\n",
    "    for i in target_arr[s1]:\n",
    "        for j in target_arr[s1]:\n",
    "            for k in target_arr[s1]:\n",
    "                for l in target_arr[s1]:\n",
    "                    temp = [i,j,k,l]\n",
    "                    temp.sort()\n",
    "                    # target[tuple(temp)] += (((1+np.sqrt(3)*1j)/np.sqrt(4))**(i+j+k+l))\n",
    "                    target[tuple(temp)] += ((1j)**(i+j+k+l))\n",
    "print(target)"
   ]
  },
  {
   "cell_type": "code",
   "execution_count": 49,
   "id": "8d5b0956-02e7-426a-8db2-619f50f3cda2",
   "metadata": {
    "tags": []
   },
   "outputs": [
    {
     "name": "stdout",
     "output_type": "stream",
     "text": [
      "18\n"
     ]
    }
   ],
   "source": [
    "A = np.zeros((len(all_4_pair), len(dic_arr_4)), dtype=np.complex128)\n",
    "b = np.zeros((len(all_4_pair),1), dtype=np.complex128)\n",
    "\n",
    "for i in range(len(all_4_arr)):\n",
    "    b[i,0] = target[all_4_arr[i]]\n",
    "# for i in range(len(all_4_arr)):\n",
    "#     b[i,0] = dic_arr_4[0][all_4_arr[i]]+ 2*dic_arr_4[2][all_4_arr[i]]\n",
    "print(np.sum(b>0))\n",
    "    \n",
    "for k in range(len(dic_arr_4)):\n",
    "    for i in range(len(all_4_arr)):\n",
    "        A[i,k] = dic_arr_4[k][all_4_arr[i]]"
   ]
  },
  {
   "cell_type": "code",
   "execution_count": 50,
   "id": "a804d026-6c09-4cab-9a32-fddd3ad35245",
   "metadata": {
    "tags": []
   },
   "outputs": [
    {
     "name": "stdout",
     "output_type": "stream",
     "text": [
      "256.0\n",
      "(35, 6)\n",
      "[[ 2.09876543e-01+5.61418815e-17j  3.58551055e-16-5.55111512e-17j\n",
      "  -4.93827160e-01+2.24567526e-16j  4.49382716e+00-2.24567526e-16j\n",
      "  -7.17102110e-16+4.44089210e-16j -5.48148148e+00-8.42128222e-16j]]\n"
     ]
    }
   ],
   "source": [
    "Q, R = np.linalg.qr(A, mode='reduced')\n",
    "br = np.real(b)\n",
    "bi = np.imag(b)\n",
    "\n",
    "Qbr = np.matmul(Q.T, br)\n",
    "ansr = np.linalg.solve(R,Qbr)\n",
    "Qbi = np.matmul(Q.T, bi)\n",
    "ansi = np.linalg.solve(R,Qbi)\n",
    "\n",
    "ans = ansr + 1.j*ansi\n",
    "\n",
    "b_hat = np.matmul(A, ans)\n",
    "print(np.sum(np.abs(b_hat-b)))\n",
    "print(A.shape)\n",
    "print(ans.T)\n",
    "# print(b.T)"
   ]
  },
  {
   "cell_type": "code",
   "execution_count": null,
   "id": "ced4f08d-457a-408e-b3f5-edb4ce8f3383",
   "metadata": {},
   "outputs": [],
   "source": []
  }
 ],
 "metadata": {
  "kernelspec": {
   "display_name": "Python 3 (ipykernel)",
   "language": "python",
   "name": "python3"
  },
  "language_info": {
   "codemirror_mode": {
    "name": "ipython",
    "version": 3
   },
   "file_extension": ".py",
   "mimetype": "text/x-python",
   "name": "python",
   "nbconvert_exporter": "python",
   "pygments_lexer": "ipython3",
   "version": "3.7.3"
  }
 },
 "nbformat": 4,
 "nbformat_minor": 5
}
